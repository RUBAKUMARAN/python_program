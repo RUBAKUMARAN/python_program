{
 "cells": [
  {
   "cell_type": "markdown",
   "id": "99b20b51",
   "metadata": {},
   "source": [
    "# Membership Operators"
   ]
  },
  {
   "cell_type": "code",
   "execution_count": 2,
   "id": "ac96d619",
   "metadata": {},
   "outputs": [
    {
     "name": "stdout",
     "output_type": "stream",
     "text": [
      "True\n"
     ]
    }
   ],
   "source": [
    "m = 'my name is Rubak'\n",
    "print('my' in m)"
   ]
  },
  {
   "cell_type": "code",
   "execution_count": 3,
   "id": "964aa1a1",
   "metadata": {},
   "outputs": [
    {
     "name": "stdout",
     "output_type": "stream",
     "text": [
      "False\n"
     ]
    }
   ],
   "source": [
    "m = 'my name is Rubak'\n",
    "print('name' not in m)"
   ]
  },
  {
   "cell_type": "markdown",
   "id": "1c8d4973",
   "metadata": {},
   "source": [
    "# Bitwise Operators"
   ]
  },
  {
   "cell_type": "code",
   "execution_count": 4,
   "id": "753c6e69",
   "metadata": {},
   "outputs": [
    {
     "name": "stdout",
     "output_type": "stream",
     "text": [
      "Bitwise AND 4\n"
     ]
    }
   ],
   "source": [
    "x=6    #binary form 0110\n",
    "y=4    #binary fprm 0100\n",
    "print(\"Bitwise AND\", x&y)"
   ]
  },
  {
   "cell_type": "code",
   "execution_count": 5,
   "id": "cffca31e",
   "metadata": {},
   "outputs": [
    {
     "name": "stdout",
     "output_type": "stream",
     "text": [
      "Bitwise OR 6\n"
     ]
    }
   ],
   "source": [
    "x=6    #binary form 0110\n",
    "y=4    #binary fprm 0100\n",
    "print(\"Bitwise OR\", x|y)"
   ]
  },
  {
   "cell_type": "code",
   "execution_count": 6,
   "id": "b99ae686",
   "metadata": {},
   "outputs": [
    {
     "name": "stdout",
     "output_type": "stream",
     "text": [
      "Bitwise NOT -3\n"
     ]
    }
   ],
   "source": [
    "x=2    #binary form 0010\n",
    "print(\"Bitwise NOT\", ~x)"
   ]
  },
  {
   "cell_type": "code",
   "execution_count": 7,
   "id": "8fcebe7d",
   "metadata": {},
   "outputs": [
    {
     "name": "stdout",
     "output_type": "stream",
     "text": [
      "Bitwise XOR 20\n"
     ]
    }
   ],
   "source": [
    "x = 18   #binary form 10010\n",
    "y = 6    #binary form 0110\n",
    "print(\"Bitwise XOR\", x^y)"
   ]
  },
  {
   "cell_type": "code",
   "execution_count": 8,
   "id": "997fadc6",
   "metadata": {},
   "outputs": [
    {
     "name": "stdout",
     "output_type": "stream",
     "text": [
      "Bitwise Left shift  12\n",
      "Bitwise Right shift 3\n"
     ]
    }
   ],
   "source": [
    "x = 6    #binary form 0110\n",
    "print(\"Bitwise Left shift \", x<<1)  #01100\n",
    "print(\"Bitwise Right shift\", x>>1)  #0011"
   ]
  },
  {
   "cell_type": "code",
   "execution_count": 9,
   "id": "7614d331",
   "metadata": {},
   "outputs": [
    {
     "name": "stdout",
     "output_type": "stream",
     "text": [
      "2446061300656\n",
      "<class 'float'>\n",
      "24\n",
      "23.17 is float? True\n"
     ]
    }
   ],
   "source": [
    "import sys\n",
    "v=23.17\n",
    "print(id(v))                                    #unique address\n",
    "print(type(v))                                  #data type of variable\n",
    "print(sys.getsizeof(v))                         #size of object in bytes\n",
    "print(v, \"is float?\", isinstance(v,float))      #isinstance che"
   ]
  }
 ],
 "metadata": {
  "kernelspec": {
   "display_name": "Python 3 (ipykernel)",
   "language": "python",
   "name": "python3"
  },
  "language_info": {
   "codemirror_mode": {
    "name": "ipython",
    "version": 3
   },
   "file_extension": ".py",
   "mimetype": "text/x-python",
   "name": "python",
   "nbconvert_exporter": "python",
   "pygments_lexer": "ipython3",
   "version": "3.9.12"
  }
 },
 "nbformat": 4,
 "nbformat_minor": 5
}

{
 "cells": [
  {
   "cell_type": "markdown",
   "id": "6788667f",
   "metadata": {},
   "source": [
    "# program to check the alphabet is vowels or consonant"
   ]
  },
  {
   "cell_type": "code",
   "execution_count": 1,
   "id": "13ce5608",
   "metadata": {},
   "outputs": [
    {
     "name": "stdout",
     "output_type": "stream",
     "text": [
      "Input a letter of the alphabet: i\n",
      "i is a vowel.\n"
     ]
    }
   ],
   "source": [
    "n = input(\"Input a letter of the alphabet: \")\n",
    "if n in ('a', 'e', 'i', 'o', 'u'):\n",
    "    print(\"%s is a vowel.\" % n)\n",
    "elif n == 'y':\n",
    "    print(\"Sometimes letter y stand for vowel, sometimes stand for consonant.\")\n",
    "else:\n",
    "    print(\"%s is a consonant.\" %n) "
   ]
  },
  {
   "cell_type": "markdown",
   "id": "37ef4a40",
   "metadata": {},
   "source": [
    "# program to check voter is eligble or not\n"
   ]
  },
  {
   "cell_type": "code",
   "execution_count": 2,
   "id": "5eb6498f",
   "metadata": {},
   "outputs": [
    {
     "name": "stdout",
     "output_type": "stream",
     "text": [
      "Enter a number 23\n",
      "your eligble to  vote 23\n"
     ]
    }
   ],
   "source": [
    "n = int(input(\"Enter a number \"))\n",
    "if n >=18:\n",
    "    print(\"your eligble to  vote\",n)\n",
    "else:\n",
    "    print(\"you are not eligble \",n)"
   ]
  },
  {
   "cell_type": "markdown",
   "id": "8b0de347",
   "metadata": {},
   "source": [
    "# program to check numbers are positive,negative and zero"
   ]
  },
  {
   "cell_type": "code",
   "execution_count": 3,
   "id": "33c3d48b",
   "metadata": {},
   "outputs": [
    {
     "name": "stdout",
     "output_type": "stream",
     "text": [
      "Enter a number12\n",
      "given no. is positive 12\n"
     ]
    }
   ],
   "source": [
    "n = int(input(\"Enter a number\"))\n",
    "if n >=1:\n",
    "    print(\"given no. is positive\",n)\n",
    "elif n < 0:\n",
    "    print(\"given no. is negative \",n)\n",
    "elif n == 0:\n",
    "    print(\"given no. is zero\")"
   ]
  },
  {
   "cell_type": "markdown",
   "id": "48fe8132",
   "metadata": {},
   "source": [
    "# program to Check a triangle is equilateral, isosceles or scalene"
   ]
  },
  {
   "cell_type": "code",
   "execution_count": 4,
   "id": "02bc8caa",
   "metadata": {},
   "outputs": [
    {
     "name": "stdout",
     "output_type": "stream",
     "text": [
      "Input lengths of the triangle sides: \n",
      "x: 12\n",
      "y: 9\n",
      "z: 7\n",
      "Scalene triangle\n"
     ]
    }
   ],
   "source": [
    "print(\"Input lengths of the triangle sides: \")\n",
    "x = int(input(\"x: \"))\n",
    "y = int(input(\"y: \"))\n",
    "z = int(input(\"z: \"))\n",
    "\n",
    "if x == y == z:\n",
    "    print(\"Equilateral triangle\")\n",
    "elif x==y or y==z or z==x:\n",
    "    print(\"isosceles triangle\")\n",
    "else:\n",
    "    print(\"Scalene triangle\")"
   ]
  },
  {
   "cell_type": "markdown",
   "id": "97fafbae",
   "metadata": {},
   "source": [
    "# program to check selling a product is profit or loss"
   ]
  },
  {
   "cell_type": "code",
   "execution_count": 6,
   "id": "55424040",
   "metadata": {},
   "outputs": [
    {
     "name": "stdout",
     "output_type": "stream",
     "text": [
      "Enter a product price 20\n",
      "enter a selling price 18\n",
      "your loss is  -2\n"
     ]
    }
   ],
   "source": [
    "product_price = int(input(\"Enter a product price \"))\n",
    "selling_price = int(input(\"enter a selling price \"))\n",
    "profit =selling_price-product_price \n",
    "if profit > 0:\n",
    "    print(\"your profit is \",profit)\n",
    "else:\n",
    "    print(\"your loss is \",profit)"
   ]
  },
  {
   "cell_type": "markdown",
   "id": "b0de3d4e",
   "metadata": {},
   "source": [
    "# print program enter two number and print greatest number"
   ]
  },
  {
   "cell_type": "code",
   "execution_count": 7,
   "id": "01797bfb",
   "metadata": {},
   "outputs": [
    {
     "name": "stdout",
     "output_type": "stream",
     "text": [
      "Enter a number 34\n",
      "Enter a number 67\n",
      "67  is greatest number\n"
     ]
    }
   ],
   "source": [
    "a = int(input(\"Enter a number \"))\n",
    "b = int(input(\"Enter a number \"))\n",
    "if a>b:\n",
    "    print(a,\" is greatest number\")\n",
    "else :\n",
    "    print(b,\" is greatest number\")"
   ]
  },
  {
   "cell_type": "markdown",
   "id": "6fa88912",
   "metadata": {},
   "source": [
    "# print program enter two number and print smallest number"
   ]
  },
  {
   "cell_type": "code",
   "execution_count": 8,
   "id": "7d6d8941",
   "metadata": {},
   "outputs": [
    {
     "name": "stdout",
     "output_type": "stream",
     "text": [
      "Enter a number 12\n",
      "Enter a number 34\n",
      "12  is smallest number\n"
     ]
    }
   ],
   "source": [
    "a = int(input(\"Enter a number \"))\n",
    "b = int(input(\"Enter a number \"))\n",
    "if a>b:\n",
    "    print(b,\" is smallest number\")\n",
    "else :\n",
    "    print(a,\" is smallest number\")"
   ]
  },
  {
   "cell_type": "markdown",
   "id": "b142069d",
   "metadata": {},
   "source": [
    "# print program enter three number and print smallest number"
   ]
  },
  {
   "cell_type": "code",
   "execution_count": 1,
   "id": "cea371b3",
   "metadata": {},
   "outputs": [
    {
     "name": "stdout",
     "output_type": "stream",
     "text": [
      "Enter a number 23\n",
      "Enter a number 34\n",
      "Enter a number 11\n",
      "23  is smallest number\n"
     ]
    }
   ],
   "source": [
    "a = int(input(\"Enter a number \"))\n",
    "b = int(input(\"Enter a number \"))\n",
    "c = int(input(\"Enter a number \"))\n",
    "if a<b:\n",
    "    print(a,\" is smallest number\")\n",
    "elif b<c: \n",
    "    print(b,\" is smallest number\")\n",
    "elif c<a:\n",
    "    print(c,\" is smallest number\")"
   ]
  },
  {
   "cell_type": "markdown",
   "id": "7afdeac0",
   "metadata": {},
   "source": [
    "# print program enter three number and print greatest number"
   ]
  },
  {
   "cell_type": "code",
   "execution_count": 2,
   "id": "9ad177f3",
   "metadata": {},
   "outputs": [
    {
     "name": "stdout",
     "output_type": "stream",
     "text": [
      "Enter a number 23\n",
      "Enter a number 56\n",
      "Enter a number 33\n",
      "56  is greatest number\n"
     ]
    }
   ],
   "source": [
    "a = int(input(\"Enter a number \"))\n",
    "b = int(input(\"Enter a number \"))\n",
    "c = int(input(\"Enter a number \"))\n",
    "if a>b:\n",
    "    print(a,\" is greatest number\")\n",
    "elif b>c: \n",
    "    print(b,\" is greatest number\")\n",
    "elif c>a:\n",
    "    print(c,\" is greatest number\")"
   ]
  },
  {
   "cell_type": "markdown",
   "id": "05cacfec",
   "metadata": {},
   "source": [
    "# program to calculate the root of quadratic equation"
   ]
  },
  {
   "cell_type": "code",
   "execution_count": 3,
   "id": "72feda9e",
   "metadata": {},
   "outputs": [
    {
     "name": "stdout",
     "output_type": "stream",
     "text": [
      "Equation: ax^2 + bx + c \n",
      "Enter a: 2\n",
      "Enter b: 5\n",
      "Enter c: 4\n",
      "The roots are imaginary. \n"
     ]
    }
   ],
   "source": [
    "print(\"Equation: ax^2 + bx + c \")\n",
    "a=int(input(\"Enter a: \"))\n",
    "b=int(input(\"Enter b: \"))\n",
    "c=int(input(\"Enter c: \"))\n",
    "d=b**2-4*a*c\n",
    "d1=d**0.5\n",
    "if(d<0):\n",
    "    print(\"The roots are imaginary. \")\n",
    "else:\n",
    "    r1=(-b+d1)/2*a\n",
    "    r2=(-b-d1)/2*a\n",
    "    print(\"The first root: \",round(r1,2))\n",
    "    print(\"The second root: \",round(r2,2)) "
   ]
  },
  {
   "cell_type": "markdown",
   "id": "3056481b",
   "metadata": {},
   "source": [
    "# program to enter the number(1-7) and print days of the week"
   ]
  },
  {
   "cell_type": "code",
   "execution_count": 4,
   "id": "4416f13b",
   "metadata": {},
   "outputs": [
    {
     "name": "stdout",
     "output_type": "stream",
     "text": [
      "Enter a number 1 to 7: 4\n",
      "thursday\n"
     ]
    }
   ],
   "source": [
    "n = int(input(\"Enter a number 1 to 7: \"))\n",
    "if n == 1:\n",
    "    print(\"monday\")\n",
    "elif n == 2:\n",
    "    print(\"tuesday\")\n",
    "elif n == 3:\n",
    "    print(\"wednesday\")\n",
    "elif n == 4:\n",
    "    print(\"thursday\")\n",
    "elif n == 5:\n",
    "    print(\"friday\")\n",
    "elif n == 6:\n",
    "    print(\"saturday\")\n",
    "elif n == 7:\n",
    "    print(\"sunday\")"
   ]
  },
  {
   "cell_type": "markdown",
   "id": "e6bfb234",
   "metadata": {},
   "source": [
    "# program to enter the number(1-12) and print days of the month"
   ]
  },
  {
   "cell_type": "code",
   "execution_count": 5,
   "id": "35b0f7e4",
   "metadata": {},
   "outputs": [
    {
     "name": "stdout",
     "output_type": "stream",
     "text": [
      "Enter the month number: 8\n",
      "August\n"
     ]
    }
   ],
   "source": [
    " x= int(input(\"Enter the month number: \"))\n",
    "if (x==1):\n",
    "    print (\"January\")\n",
    "elif (x==2):\n",
    "    print(\"Febuary\")\n",
    "elif (x==3):\n",
    "    print(\"March\")\n",
    "elif (x==4):\n",
    "    print(\"April\")\n",
    "elif (x==5):\n",
    "    print(\"May\")\n",
    "elif (x==6):\n",
    "    print(\"June\")\n",
    "elif (x==7):\n",
    "    print(\"July\")\n",
    "elif (x==8):\n",
    "    print(\"August\")\n",
    "elif (x==9):\n",
    "    print(\"September\")\n",
    "elif (x==10):\n",
    "    print(\"October\")\n",
    "elif (x==11):\n",
    "    print(\"November\")\n",
    "elif (x==12):\n",
    "    print(\"December\")"
   ]
  },
  {
   "cell_type": "markdown",
   "id": "5c21ba7b",
   "metadata": {},
   "source": [
    "# program to enter a number(1-4)and perform operators"
   ]
  },
  {
   "cell_type": "code",
   "execution_count": 7,
   "id": "cc685d04",
   "metadata": {},
   "outputs": [
    {
     "name": "stdout",
     "output_type": "stream",
     "text": [
      "\n",
      "1.addition\n",
      "2.subraction\n",
      "3.multipilcatin\n",
      "4.division\n",
      " Enter a number 1 to 4 3\n",
      "Enter a number 2\n",
      "Enter a number 3\n",
      "Your multiplication is 6\n"
     ]
    }
   ],
   "source": [
    "n = int(input(\"\\n1.addition\\n2.subraction\\n3.multipilcatin\\n4.division\\n Enter a number 1 to 4 \"))\n",
    "a = int(input(\"Enter a number \"))\n",
    "b = int(input(\"Enter a number \"))\n",
    "if n==1:\n",
    "    print(\"Your Addition is \",a+b)\n",
    "elif n==2:\n",
    "    print(\"Your Subraction is\",a-b)\n",
    "elif n==3:\n",
    "    print(\"Your multiplication is\",a*b)\n",
    "elif n==4:\n",
    "    print(\"Your divison is \",a/b)"
   ]
  }
 ],
 "metadata": {
  "kernelspec": {
   "display_name": "Python 3 (ipykernel)",
   "language": "python",
   "name": "python3"
  },
  "language_info": {
   "codemirror_mode": {
    "name": "ipython",
    "version": 3
   },
   "file_extension": ".py",
   "mimetype": "text/x-python",
   "name": "python",
   "nbconvert_exporter": "python",
   "pygments_lexer": "ipython3",
   "version": "3.9.12"
  }
 },
 "nbformat": 4,
 "nbformat_minor": 5
}

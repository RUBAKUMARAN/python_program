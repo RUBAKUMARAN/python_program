{
 "cells": [
  {
   "cell_type": "markdown",
   "id": "a917a5e9",
   "metadata": {},
   "source": [
    "# Q1) Write a function to find the max of three number."
   ]
  },
  {
   "cell_type": "code",
   "execution_count": 1,
   "id": "848d4c92",
   "metadata": {},
   "outputs": [
    {
     "name": "stdout",
     "output_type": "stream",
     "text": [
      "89\n"
     ]
    }
   ],
   "source": [
    "def max(a,b,c):\n",
    "    if a>=b and a>=c:\n",
    "        largest = a\n",
    "    elif b>=a and b>=c:\n",
    "        largest = b\n",
    "    else:\n",
    "        largest = c\n",
    "    \n",
    "    return largest\n",
    "\n",
    "a=12\n",
    "b=34\n",
    "c=89\n",
    "print(max(a,b,c))"
   ]
  },
  {
   "cell_type": "markdown",
   "id": "2433403b",
   "metadata": {},
   "source": [
    "# Q2) Write a function to sum all the number in the list."
   ]
  },
  {
   "cell_type": "code",
   "execution_count": 2,
   "id": "a656cfcc",
   "metadata": {},
   "outputs": [
    {
     "name": "stdout",
     "output_type": "stream",
     "text": [
      "Sum of Item is  150\n"
     ]
    }
   ],
   "source": [
    "def sum():\n",
    "    sum=[10,20,30,40,50]\n",
    "    total=0\n",
    "    for x in sum:\n",
    "        total = total + x\n",
    "    print(\"Sum of Item is \" ,total)\n",
    "sum()"
   ]
  },
  {
   "cell_type": "markdown",
   "id": "2097f64f",
   "metadata": {},
   "source": [
    "# Q3) Write a function to multiply all the number in the list."
   ]
  },
  {
   "cell_type": "code",
   "execution_count": 3,
   "id": "f692a454",
   "metadata": {},
   "outputs": [
    {
     "name": "stdout",
     "output_type": "stream",
     "text": [
      "Product of Item is  264\n"
     ]
    }
   ],
   "source": [
    "def multi():\n",
    "    l=[1,2,3,4,11]\n",
    "    total=1\n",
    "    for x in l:\n",
    "        total = total * x\n",
    "    print(\"Product of Item is \" ,total)\n",
    "multi()\n"
   ]
  },
  {
   "cell_type": "markdown",
   "id": "79e09b79",
   "metadata": {},
   "source": [
    "# Q4) Write a function to reverse a string."
   ]
  },
  {
   "cell_type": "code",
   "execution_count": 4,
   "id": "28b46100",
   "metadata": {},
   "outputs": [
    {
     "name": "stdout",
     "output_type": "stream",
     "text": [
      "Enter a number326\n",
      "623\n"
     ]
    }
   ],
   "source": [
    "def rev():\n",
    "    n=int(input('Enter a number'))\n",
    "    r=0\n",
    "    while n>0:\n",
    "        d=n%10\n",
    "        r=r*10+d\n",
    "        n=n//10\n",
    "    print(r)\n",
    "rev()"
   ]
  },
  {
   "cell_type": "markdown",
   "id": "3cc9c737",
   "metadata": {},
   "source": [
    "# Q5) Write a funtion to calculate the factorial of a number."
   ]
  },
  {
   "cell_type": "code",
   "execution_count": 5,
   "id": "10fc6b18",
   "metadata": {},
   "outputs": [
    {
     "name": "stdout",
     "output_type": "stream",
     "text": [
      "Enter a number5\n",
      "120\n"
     ]
    }
   ],
   "source": [
    "def fact():\n",
    "    n=int(input('Enter a number'))\n",
    "    f=1\n",
    "    while n>0:\n",
    "        f=f*n\n",
    "        n=n-1\n",
    "    print(f)\n",
    "fact()"
   ]
  },
  {
   "cell_type": "markdown",
   "id": "0a8b29c2",
   "metadata": {},
   "source": [
    "# Q6) Write a function that accept a string and calculate the number of upper case letters and lower case letters."
   ]
  },
  {
   "cell_type": "code",
   "execution_count": 7,
   "id": "05e82bdd",
   "metadata": {},
   "outputs": [
    {
     "name": "stdout",
     "output_type": "stream",
     "text": [
      "Enter the string:- Rubak\n",
      "LowerCase letter in the String 4\n",
      "UpperCase letter in the String 1\n"
     ]
    }
   ],
   "source": [
    "x=input(\"Enter the string:- \")\n",
    "def char(x):\n",
    "    u=0\n",
    "    l=0\n",
    "    for i in x:\n",
    "        if i>='a' and i<='z':\n",
    "            l+=1\n",
    "\n",
    "        if i >='A' and i<='Z':\n",
    "            u+=1\n",
    "    print(\"LowerCase letter in the String\",l)\n",
    "    print(\"UpperCase letter in the String\",u)\n",
    "char(x)\n"
   ]
  },
  {
   "cell_type": "markdown",
   "id": "469412fe",
   "metadata": {},
   "source": [
    "# Q7) Write a function that takes a list and return a new list with unique elements of the first list."
   ]
  },
  {
   "cell_type": "code",
   "execution_count": 8,
   "id": "515ef9cf",
   "metadata": {},
   "outputs": [
    {
     "name": "stdout",
     "output_type": "stream",
     "text": [
      "[1, 2, 3, 4, 5]\n"
     ]
    }
   ],
   "source": [
    "def f(l):\n",
    "    x = []\n",
    "    for a in l:\n",
    "        if a not in x:\n",
    "            x.append(a)\n",
    "    return x\n",
    "\n",
    "print(f([1,2,3,3,3,3,4,5]))"
   ]
  },
  {
   "cell_type": "code",
   "execution_count": null,
   "id": "5ae0ff7d",
   "metadata": {},
   "outputs": [],
   "source": []
  }
 ],
 "metadata": {
  "kernelspec": {
   "display_name": "Python 3 (ipykernel)",
   "language": "python",
   "name": "python3"
  },
  "language_info": {
   "codemirror_mode": {
    "name": "ipython",
    "version": 3
   },
   "file_extension": ".py",
   "mimetype": "text/x-python",
   "name": "python",
   "nbconvert_exporter": "python",
   "pygments_lexer": "ipython3",
   "version": "3.9.13"
  }
 },
 "nbformat": 4,
 "nbformat_minor": 5
}

{
 "cells": [
  {
   "cell_type": "markdown",
   "id": "7972f54d",
   "metadata": {},
   "source": [
    "# program to print length of string"
   ]
  },
  {
   "cell_type": "code",
   "execution_count": 1,
   "id": "5462788e",
   "metadata": {},
   "outputs": [
    {
     "name": "stdout",
     "output_type": "stream",
     "text": [
      "10\n"
     ]
    }
   ],
   "source": [
    "k=\"i am rubak\"\n",
    "print(len(k))"
   ]
  },
  {
   "cell_type": "markdown",
   "id": "eb102278",
   "metadata": {},
   "source": [
    "# program to count string"
   ]
  },
  {
   "cell_type": "code",
   "execution_count": 3,
   "id": "ef74b0ce",
   "metadata": {},
   "outputs": [
    {
     "name": "stdout",
     "output_type": "stream",
     "text": [
      "enter string:kumar\n",
      "1\n",
      "2\n",
      "3\n",
      "4\n",
      "5\n"
     ]
    }
   ],
   "source": [
    "m=input(\"enter string:\")\n",
    "count=0\n",
    "for i in m:\n",
    "    count=count+1\n",
    "    print(count)"
   ]
  },
  {
   "cell_type": "markdown",
   "id": "dd8c209b",
   "metadata": {},
   "source": [
    "# program to print palindrome"
   ]
  },
  {
   "cell_type": "code",
   "execution_count": 4,
   "id": "01421107",
   "metadata": {},
   "outputs": [
    {
     "name": "stdout",
     "output_type": "stream",
     "text": [
      "Enter the string:  master\n",
      "This is not palindrome\n"
     ]
    }
   ],
   "source": [
    "string= str(input(\"Enter the string:  \"))\n",
    "if (string==string[::-1]):\n",
    "    print(\"This is palindrome\")\n",
    "else:\n",
    "    print(\"This is not palindrome\")"
   ]
  },
  {
   "cell_type": "markdown",
   "id": "690e2ee1",
   "metadata": {},
   "source": [
    "# print strings in lower case"
   ]
  },
  {
   "cell_type": "code",
   "execution_count": 5,
   "id": "e958413f",
   "metadata": {},
   "outputs": [
    {
     "data": {
      "text/plain": [
       "'i am rubakumaran'"
      ]
     },
     "execution_count": 5,
     "metadata": {},
     "output_type": "execute_result"
    }
   ],
   "source": [
    "s=\"i am rubakumaran\"\n",
    "s.lower()"
   ]
  },
  {
   "cell_type": "markdown",
   "id": "1112b0af",
   "metadata": {},
   "source": [
    "# Prints the unique words in sorted form from a comma separated sequence of words"
   ]
  },
  {
   "cell_type": "code",
   "execution_count": 7,
   "id": "200183ea",
   "metadata": {},
   "outputs": [
    {
     "name": "stdout",
     "output_type": "stream",
     "text": [
      "Input comma separated sequence of words:red,blue,green,rgb\n",
      "blue,green,red,rgb\n"
     ]
    }
   ],
   "source": [
    "items = input(\"Input comma separated sequence of words:\")\n",
    "words = [word for word in items.split(\",\")]\n",
    "print(\",\".join(sorted(list(set(words)))))"
   ]
  }
 ],
 "metadata": {
  "kernelspec": {
   "display_name": "Python 3 (ipykernel)",
   "language": "python",
   "name": "python3"
  },
  "language_info": {
   "codemirror_mode": {
    "name": "ipython",
    "version": 3
   },
   "file_extension": ".py",
   "mimetype": "text/x-python",
   "name": "python",
   "nbconvert_exporter": "python",
   "pygments_lexer": "ipython3",
   "version": "3.9.12"
  }
 },
 "nbformat": 4,
 "nbformat_minor": 5
}

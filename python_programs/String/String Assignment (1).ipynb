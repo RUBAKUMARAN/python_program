{
 "cells": [
  {
   "cell_type": "markdown",
   "id": "843256a9",
   "metadata": {},
   "source": [
    "# Q1) Write a Program to Calculate length of a String."
   ]
  },
  {
   "cell_type": "code",
   "execution_count": 1,
   "id": "c60c8d18",
   "metadata": {},
   "outputs": [
    {
     "name": "stdout",
     "output_type": "stream",
     "text": [
      "Enter a String : rubak\n",
      "Lenght of string 5\n"
     ]
    }
   ],
   "source": [
    "str=input(\"Enter a String : \")\n",
    "count = 0\n",
    "for s in str:\n",
    "    count=count+1\n",
    "print(\"Lenght of string\", count)"
   ]
  },
  {
   "cell_type": "markdown",
   "id": "0ba46ba6",
   "metadata": {},
   "source": [
    "# Q2) Write a program to count the number of characters in a String."
   ]
  },
  {
   "cell_type": "code",
   "execution_count": 2,
   "id": "3cd269b7",
   "metadata": {},
   "outputs": [
    {
     "name": "stdout",
     "output_type": "stream",
     "text": [
      "Enter a Characters : kumaran\n",
      "Number of string 7\n"
     ]
    }
   ],
   "source": [
    "str=input(\"Enter a Characters : \")\n",
    "count = 0\n",
    "for s in str:\n",
    "    count=count+1\n",
    "print(\"Number of string\", count)"
   ]
  },
  {
   "cell_type": "markdown",
   "id": "a00f1f4f",
   "metadata": {},
   "source": [
    "# Q3) Write a program that take input from the user and display that input back in upper and lower cases."
   ]
  },
  {
   "cell_type": "code",
   "execution_count": 3,
   "id": "5c5c5003",
   "metadata": {},
   "outputs": [
    {
     "name": "stdout",
     "output_type": "stream",
     "text": [
      "Enter a characters Gokul\n",
      "Upper case is   GOKUL\n",
      "Lower case is  gokul\n"
     ]
    }
   ],
   "source": [
    "user_input = input(\"Enter a characters \")\n",
    "print(\"Upper case is  \", user_input.upper())\n",
    "print(\"Lower case is \", user_input.lower())"
   ]
  },
  {
   "cell_type": "markdown",
   "id": "0f69b3cc",
   "metadata": {},
   "source": [
    "# Q4) Write a program to check whether a given string is palindrome or not."
   ]
  },
  {
   "cell_type": "code",
   "execution_count": 4,
   "id": "f383cb8a",
   "metadata": {},
   "outputs": [
    {
     "name": "stdout",
     "output_type": "stream",
     "text": [
      "Enter a string : ball\n",
      "It is not a palindrome\n"
     ]
    }
   ],
   "source": [
    "s=input(\"Enter a string : \")\n",
    "revstr=(s[::-1]) #reverse string to repeat the string -1\n",
    "if revstr==s:\n",
    "    print(\"It is a palindrome\")\n",
    "else:\n",
    "    print(\"It is not a palindrome\")"
   ]
  }
 ],
 "metadata": {
  "kernelspec": {
   "display_name": "Python 3 (ipykernel)",
   "language": "python",
   "name": "python3"
  },
  "language_info": {
   "codemirror_mode": {
    "name": "ipython",
    "version": 3
   },
   "file_extension": ".py",
   "mimetype": "text/x-python",
   "name": "python",
   "nbconvert_exporter": "python",
   "pygments_lexer": "ipython3",
   "version": "3.9.13"
  }
 },
 "nbformat": 4,
 "nbformat_minor": 5
}

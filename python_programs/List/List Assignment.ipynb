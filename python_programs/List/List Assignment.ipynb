{
 "cells": [
  {
   "cell_type": "markdown",
   "id": "39d73003",
   "metadata": {},
   "source": [
    "# Q1) Write a program to sum all the item in a list."
   ]
  },
  {
   "cell_type": "code",
   "execution_count": 1,
   "id": "25688ff9",
   "metadata": {},
   "outputs": [
    {
     "name": "stdout",
     "output_type": "stream",
     "text": [
      "Sum of Item is  150\n"
     ]
    }
   ],
   "source": [
    "l=[10,20,30,40,50]\n",
    "total=0\n",
    "for x in l:\n",
    "    total = total + x\n",
    "print(\"Sum of Item is \" ,total)"
   ]
  },
  {
   "cell_type": "markdown",
   "id": "bf094069",
   "metadata": {},
   "source": [
    "# Q2) Write a program to multiply all the item in a list."
   ]
  },
  {
   "cell_type": "code",
   "execution_count": 2,
   "id": "d1516493",
   "metadata": {},
   "outputs": [
    {
     "name": "stdout",
     "output_type": "stream",
     "text": [
      "Sum of Item is  720\n"
     ]
    }
   ],
   "source": [
    "l=[2,3,4,5,6]\n",
    "total=1\n",
    "for x in l:\n",
    "    total = total * x\n",
    "print(\"Sum of Item is \" ,total)"
   ]
  },
  {
   "cell_type": "markdown",
   "id": "9f0daeb9",
   "metadata": {},
   "source": [
    "# Q3) Write a prograrm to get the largest number from a list."
   ]
  },
  {
   "cell_type": "code",
   "execution_count": 3,
   "id": "ccb147a8",
   "metadata": {},
   "outputs": [
    {
     "name": "stdout",
     "output_type": "stream",
     "text": [
      "Enter number of Items:3\n",
      "Enter element:23\n",
      "Enter element:34\n",
      "Enter element:54\n",
      "Largest element is: 54\n"
     ]
    }
   ],
   "source": [
    "a=[]\n",
    "n=int(input(\"Enter number of Items:\"))\n",
    "for i in range(1,n+1):\n",
    "    b=int(input(\"Enter element:\"))\n",
    "    a.append(b)\n",
    "a.sort()\n",
    "print(\"Largest element is:\",a[n-1])"
   ]
  },
  {
   "cell_type": "markdown",
   "id": "19d20199",
   "metadata": {},
   "source": [
    "# Q4) Write a prograrm to get the smallest number from a list."
   ]
  },
  {
   "cell_type": "code",
   "execution_count": 4,
   "id": "e76eabb8",
   "metadata": {},
   "outputs": [
    {
     "name": "stdout",
     "output_type": "stream",
     "text": [
      "Smallest number in the list is:  23\n"
     ]
    }
   ],
   "source": [
    "l = [50, 44, 72, 22, 48, 60]\n",
    "smallest = min(a)\n",
    "print(\"Smallest number in the list is: \", smallest)"
   ]
  },
  {
   "cell_type": "markdown",
   "id": "d394d1ce",
   "metadata": {},
   "source": [
    "# Q5) Write a program to remove duplicate from a given list."
   ]
  },
  {
   "cell_type": "code",
   "execution_count": 5,
   "id": "b36e35bd",
   "metadata": {},
   "outputs": [
    {
     "name": "stdout",
     "output_type": "stream",
     "text": [
      "[22, 56, 85, 68, 98]\n"
     ]
    }
   ],
   "source": [
    "list_of_lists = [22,56,85,56,85,22,68,98,98]\n",
    "new_list = []\n",
    "for l in list_of_lists:\n",
    "    if l not in new_list:\n",
    "        new_list.append(l)\n",
    "print(new_list)"
   ]
  },
  {
   "cell_type": "markdown",
   "id": "ef4d54ce",
   "metadata": {},
   "source": [
    "# Q6) Write a program to check the list is empty or not.\n"
   ]
  },
  {
   "cell_type": "code",
   "execution_count": 6,
   "id": "f19cdd87",
   "metadata": {},
   "outputs": [
    {
     "name": "stdout",
     "output_type": "stream",
     "text": [
      "There is something\n"
     ]
    }
   ],
   "source": [
    "my_list = [5]\n",
    "if not my_list:\n",
    "    print(\"The list is empty\")\n",
    "else:\n",
    "    print(\"There is something\")"
   ]
  },
  {
   "cell_type": "markdown",
   "id": "01a9fbaa",
   "metadata": {},
   "source": [
    "# Q7) Write a python program to count the number of strings where the string lenght is 2 or more and the first and the last character are same from a given list of strings."
   ]
  },
  {
   "cell_type": "code",
   "execution_count": 7,
   "id": "ec3255fe",
   "metadata": {},
   "outputs": [
    {
     "name": "stdout",
     "output_type": "stream",
     "text": [
      "4\n"
     ]
    }
   ],
   "source": [
    "word=[\"madem\",\"3643\",\"apple\",\"3756\",\"bulb\",\"1551\"]\n",
    "ch = 0\n",
    "for w in word:\n",
    "    if len(w) > 1 and w[0] == w[-1]:\n",
    "        ch += 1\n",
    "print(ch)"
   ]
  },
  {
   "cell_type": "markdown",
   "id": "90dc4b02",
   "metadata": {},
   "source": [
    "# Q8) Write a program to copy a list."
   ]
  },
  {
   "cell_type": "code",
   "execution_count": 8,
   "id": "9655547f",
   "metadata": {},
   "outputs": [
    {
     "name": "stdout",
     "output_type": "stream",
     "text": [
      "[10, 2, 30, 4, 50, 6, 70]\n"
     ]
    }
   ],
   "source": [
    "L=[10,2,30,4,50,6,70]\n",
    "L1=L.copy()\n",
    "print(L1)"
   ]
  },
  {
   "cell_type": "markdown",
   "id": "85bed5d7",
   "metadata": {},
   "source": [
    "# Q9) Write a program to check whether two list are circularly identical."
   ]
  },
  {
   "cell_type": "code",
   "execution_count": 9,
   "id": "965c5c58",
   "metadata": {},
   "outputs": [
    {
     "name": "stdout",
     "output_type": "stream",
     "text": [
      "Identical\n"
     ]
    }
   ],
   "source": [
    "L1 = [1,1,2,7,8,9,6]\n",
    "L2 = [1,2,1,6,8,9,7]\n",
    "L1.sort()\n",
    "L2.sort()\n",
    "if L1 == L2:\n",
    "    print('Identical')\n",
    "if L1 != L2:\n",
    "    print('Different')"
   ]
  },
  {
   "cell_type": "markdown",
   "id": "20ca1884",
   "metadata": {},
   "source": [
    "# Q10) Write a program to find the second smallest number in a list."
   ]
  },
  {
   "cell_type": "code",
   "execution_count": 10,
   "id": "2dd59fba",
   "metadata": {},
   "outputs": [
    {
     "name": "stdout",
     "output_type": "stream",
     "text": [
      "Enter the number of elements: 3\n",
      "Enter the elements: 12\n",
      "Enter the elements: 37\n",
      "Enter the elements: 78\n",
      "The sorted list:  [12, 37, 78]\n",
      "The second smallest value of this list:  37\n"
     ]
    }
   ],
   "source": [
    "li = [] \n",
    "n = int(input(\"Enter the number of elements: \"))\n",
    "for i in range(1, n+1): \n",
    "    E = int(input(\"Enter the elements: \")) \n",
    "    li.append(E) \n",
    "li.sort() \n",
    "\n",
    "print(\"The sorted list: \", li) \n",
    "print(\"The second smallest value of this list: \",li[1])"
   ]
  },
  {
   "cell_type": "markdown",
   "id": "ba6f1404",
   "metadata": {},
   "source": [
    "# Q11) Write a program to find the second Largest number in a list."
   ]
  },
  {
   "cell_type": "code",
   "execution_count": 11,
   "id": "4038a620",
   "metadata": {},
   "outputs": [
    {
     "name": "stdout",
     "output_type": "stream",
     "text": [
      "Enter the number of elements: 4\n",
      "Enter the elements: 12\n",
      "Enter the elements: 56\n",
      "Enter the elements: 45\n",
      "Enter the elements: 34\n",
      "The sorted list:  [12, 34, 45, 56]\n",
      "The second smallest value of this list:  45\n"
     ]
    }
   ],
   "source": [
    "li = [] \n",
    "n = int(input(\"Enter the number of elements: \"))\n",
    "for i in range(1, n+1): \n",
    "    E = int(input(\"Enter the elements: \")) \n",
    "    li.append(E) \n",
    "li.sort() \n",
    "\n",
    "print(\"The sorted list: \", li) \n",
    "print(\"The second smallest value of this list: \",li[n-2])"
   ]
  },
  {
   "cell_type": "markdown",
   "id": "28e02bd1",
   "metadata": {},
   "source": [
    "# Q12) Write a program to get unique values from list."
   ]
  },
  {
   "cell_type": "code",
   "execution_count": 12,
   "id": "866b4328",
   "metadata": {},
   "outputs": [
    {
     "name": "stdout",
     "output_type": "stream",
     "text": [
      "Original List :  [10, 20, 30, 40, 20, 50, 60, 40]\n",
      "List of unique numbers :  [40, 10, 50, 20, 60, 30]\n"
     ]
    }
   ],
   "source": [
    "l1 = [10, 20, 30, 40, 20, 50, 60, 40]\n",
    "print(\"Original List : \",l1)\n",
    "s1 = set(l1)\n",
    "new_list = list(s1)\n",
    "print(\"List of unique numbers : \",new_list)"
   ]
  },
  {
   "cell_type": "markdown",
   "id": "1f05d189",
   "metadata": {},
   "source": [
    "# Q13) Write a program to get the frequency of the elements in a list."
   ]
  },
  {
   "cell_type": "code",
   "execution_count": 13,
   "id": "0162727b",
   "metadata": {},
   "outputs": [
    {
     "name": "stdout",
     "output_type": "stream",
     "text": [
      "[1, 2, 3, 6, 5, 8, 9, 85, 58, 74, 52, 4]\n",
      "Frequency of a element in list -  {1: 1, 2: 1, 3: 1, 6: 1, 5: 1, 8: 1, 9: 1, 85: 1, 58: 1, 74: 1, 52: 1, 4: 1}\n"
     ]
    }
   ],
   "source": [
    "n=[1,2,3,6,5,8,9,85,58,74,52,4]\n",
    "m=n.copy()\n",
    "c=[0]*len(m)\n",
    "my=dict()\n",
    "for i in range(len(m)):\n",
    "    for j in range(len(n)):\n",
    "        if m[i]==n[j]:\n",
    "            c[i]+=1\n",
    "            my[m[i]]=c[i]\n",
    "print(n)\n",
    "print('Frequency of a element in list - ',my)"
   ]
  },
  {
   "cell_type": "code",
   "execution_count": null,
   "id": "14526585",
   "metadata": {},
   "outputs": [],
   "source": []
  }
 ],
 "metadata": {
  "kernelspec": {
   "display_name": "Python 3 (ipykernel)",
   "language": "python",
   "name": "python3"
  },
  "language_info": {
   "codemirror_mode": {
    "name": "ipython",
    "version": 3
   },
   "file_extension": ".py",
   "mimetype": "text/x-python",
   "name": "python",
   "nbconvert_exporter": "python",
   "pygments_lexer": "ipython3",
   "version": "3.9.13"
  }
 },
 "nbformat": 4,
 "nbformat_minor": 5
}

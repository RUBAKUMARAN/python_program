{
 "cells": [
  {
   "cell_type": "markdown",
   "id": "f6ae27fc",
   "metadata": {},
   "source": [
    "# sum of all items in a list"
   ]
  },
  {
   "cell_type": "code",
   "execution_count": 3,
   "id": "ac25d95f",
   "metadata": {},
   "outputs": [
    {
     "name": "stdout",
     "output_type": "stream",
     "text": [
      "sum of list = rubak6text8kumaran\n"
     ]
    }
   ],
   "source": [
    "lst = ['rubak','6','text','8','kumaran']\n",
    "add = lst[0]+lst[1]+lst[2]+lst[3]+lst[4]\n",
    "print('sum of list =', add)"
   ]
  },
  {
   "cell_type": "markdown",
   "id": "37b7e18b",
   "metadata": {},
   "source": [
    "# Multiply all items in list"
   ]
  },
  {
   "cell_type": "code",
   "execution_count": 5,
   "id": "a5130f14",
   "metadata": {},
   "outputs": [
    {
     "name": "stdout",
     "output_type": "stream",
     "text": [
      "multiplication of list = rubakrubakrubak\n"
     ]
    }
   ],
   "source": [
    " n= ['rubak',3]\n",
    "mul = n[0]*n[1]\n",
    "print('multiplication of list =', mul)"
   ]
  },
  {
   "cell_type": "markdown",
   "id": "30ef706c",
   "metadata": {},
   "source": [
    "# Largest number in list"
   ]
  },
  {
   "cell_type": "code",
   "execution_count": 6,
   "id": "37072ff2",
   "metadata": {},
   "outputs": [
    {
     "name": "stdout",
     "output_type": "stream",
     "text": [
      "[55, 17, 73, 42]\n",
      "Largest number in list = 73\n"
     ]
    }
   ],
   "source": [
    "n = [55 ,17 ,73 ,42]\n",
    "print(n)\n",
    "print('Largest number in list =', max(n))"
   ]
  },
  {
   "cell_type": "markdown",
   "id": "16f60086",
   "metadata": {},
   "source": [
    "# Smallest number in list"
   ]
  },
  {
   "cell_type": "code",
   "execution_count": 7,
   "id": "560c338e",
   "metadata": {},
   "outputs": [
    {
     "name": "stdout",
     "output_type": "stream",
     "text": [
      "[34, 97, 73, 42]\n",
      "Smallest number in list = 34\n"
     ]
    }
   ],
   "source": [
    "n = [34 ,97 ,73 ,42]\n",
    "print(n)\n",
    "print('Smallest number in list =', min(n))"
   ]
  },
  {
   "cell_type": "markdown",
   "id": "8a0f38a0",
   "metadata": {},
   "source": [
    "# Count of strings in a list"
   ]
  },
  {
   "cell_type": "code",
   "execution_count": 11,
   "id": "3509d973",
   "metadata": {},
   "outputs": [
    {
     "name": "stdout",
     "output_type": "stream",
     "text": [
      "number of strings in list = 4\n"
     ]
    }
   ],
   "source": [
    "a= ['aba','cdc','efe','ghg']\n",
    "count = 0\n",
    "i = 0\n",
    "for i in range(len(a)):\n",
    "    count += 1\n",
    "print('number of strings in list =', count)"
   ]
  },
  {
   "cell_type": "markdown",
   "id": "8d2ab71e",
   "metadata": {},
   "source": [
    "# sum of list"
   ]
  },
  {
   "cell_type": "code",
   "execution_count": 10,
   "id": "b043fa7e",
   "metadata": {},
   "outputs": [
    {
     "name": "stdout",
     "output_type": "stream",
     "text": [
      "23\n"
     ]
    }
   ],
   "source": [
    "l = [1, 2, 3, 4, 2, 1, 4, 6]\n",
    "print(sum(l))"
   ]
  },
  {
   "cell_type": "markdown",
   "id": "3e7b0038",
   "metadata": {},
   "source": [
    "# square the numbers in list"
   ]
  },
  {
   "cell_type": "code",
   "execution_count": 12,
   "id": "69ed3e09",
   "metadata": {},
   "outputs": [
    {
     "name": "stdout",
     "output_type": "stream",
     "text": [
      "[1, 4, 9, 16, 25]\n"
     ]
    }
   ],
   "source": [
    "numbers = [1, 2, 3, 4, 5]\n",
    "squared = [number ** 2 for number in numbers]\n",
    "print(squared)"
   ]
  },
  {
   "cell_type": "markdown",
   "id": "15585565",
   "metadata": {},
   "source": [
    "# remove duplicate elements in list"
   ]
  },
  {
   "cell_type": "code",
   "execution_count": 13,
   "id": "f19c21c4",
   "metadata": {},
   "outputs": [
    {
     "name": "stdout",
     "output_type": "stream",
     "text": [
      "removed duplicate elements:  [1, 2, 3, 4, 5]\n"
     ]
    }
   ],
   "source": [
    "l = [1, 2, 3, 4, 2, 1, 4, 5,3]\n",
    "res = [*set(l)]\n",
    "print(\"removed duplicate elements: \", res)"
   ]
  },
  {
   "cell_type": "markdown",
   "id": "4f265935",
   "metadata": {},
   "source": [
    "# exract the number from list"
   ]
  },
  {
   "cell_type": "code",
   "execution_count": 15,
   "id": "f5f5c997",
   "metadata": {},
   "outputs": [
    {
     "name": "stdout",
     "output_type": "stream",
     "text": [
      "Hi my age is 25 years\n",
      "[25]\n"
     ]
    }
   ],
   "source": [
    "a= \"Hi my age is 25 years\"\n",
    "print(a)\n",
    "numbers = [int(a)for a in a.split() if a.isdigit()]\n",
    "print(numbers)"
   ]
  },
  {
   "cell_type": "markdown",
   "id": "b9eedf1b",
   "metadata": {},
   "source": [
    "# multiply list by 10"
   ]
  },
  {
   "cell_type": "code",
   "execution_count": 16,
   "id": "1d9f5b1e",
   "metadata": {},
   "outputs": [
    {
     "name": "stdout",
     "output_type": "stream",
     "text": [
      "[1, 2, 3, 4, 1, 2, 3, 4, 1, 2, 3, 4, 1, 2, 3, 4, 1, 2, 3, 4, 1, 2, 3, 4, 1, 2, 3, 4, 1, 2, 3, 4, 1, 2, 3, 4, 1, 2, 3, 4]\n"
     ]
    }
   ],
   "source": [
    "numbers = [1, 2, 3, 4]\n",
    "print(numbers*10)"
   ]
  }
 ],
 "metadata": {
  "kernelspec": {
   "display_name": "Python 3 (ipykernel)",
   "language": "python",
   "name": "python3"
  },
  "language_info": {
   "codemirror_mode": {
    "name": "ipython",
    "version": 3
   },
   "file_extension": ".py",
   "mimetype": "text/x-python",
   "name": "python",
   "nbconvert_exporter": "python",
   "pygments_lexer": "ipython3",
   "version": "3.9.12"
  }
 },
 "nbformat": 4,
 "nbformat_minor": 5
}

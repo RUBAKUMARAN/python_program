{
 "cells": [
  {
   "cell_type": "markdown",
   "id": "361d0a98",
   "metadata": {},
   "source": [
    "# INTRODUCTION"
   ]
  },
  {
   "cell_type": "code",
   "execution_count": 2,
   "id": "5616fd23",
   "metadata": {},
   "outputs": [
    {
     "name": "stdout",
     "output_type": "stream",
     "text": [
      "Name: Rubakumaran\n"
     ]
    }
   ],
   "source": [
    "name=\"Rubakumaran\"\n",
    "print(\"Name:\",name)"
   ]
  },
  {
   "cell_type": "markdown",
   "id": "fffbacf2",
   "metadata": {},
   "source": [
    "# Addition"
   ]
  },
  {
   "cell_type": "code",
   "execution_count": 11,
   "id": "5e51cb6c",
   "metadata": {},
   "outputs": [
    {
     "name": "stdout",
     "output_type": "stream",
     "text": [
      "Enter3\n",
      "Enter6\n",
      "Addition 9\n"
     ]
    }
   ],
   "source": [
    "x=int(input(\"Enter\"))\n",
    "y=int(input(\"Enter\"))\n",
    "z=x+y\n",
    "print(\"Addition\", z)"
   ]
  },
  {
   "cell_type": "markdown",
   "id": "178483e6",
   "metadata": {},
   "source": [
    "# Subtraction"
   ]
  },
  {
   "cell_type": "code",
   "execution_count": 5,
   "id": "4ca9b3e0",
   "metadata": {},
   "outputs": [
    {
     "name": "stdout",
     "output_type": "stream",
     "text": [
      "Enter3\n",
      "Enter2\n",
      "Substraction 1\n"
     ]
    }
   ],
   "source": [
    "x=int(input(\"Enter\"))\n",
    "y=int(input(\"Enter\"))\n",
    "z=x-y\n",
    "print(\"Substraction\", z)"
   ]
  },
  {
   "cell_type": "markdown",
   "id": "b362beae",
   "metadata": {},
   "source": [
    "# Multiplication"
   ]
  },
  {
   "cell_type": "code",
   "execution_count": 6,
   "id": "54ce77af",
   "metadata": {},
   "outputs": [
    {
     "name": "stdout",
     "output_type": "stream",
     "text": [
      "Enter2\n",
      "Enter4\n",
      "Multiplication 8\n"
     ]
    }
   ],
   "source": [
    "x=int(input(\"Enter\"))\n",
    "y=int(input(\"Enter\"))\n",
    "z=x*y\n",
    "print(\"Multiplication\", z)\n"
   ]
  },
  {
   "cell_type": "markdown",
   "id": "318d7ff8",
   "metadata": {},
   "source": [
    "# Division"
   ]
  },
  {
   "cell_type": "code",
   "execution_count": 7,
   "id": "761dd6b4",
   "metadata": {},
   "outputs": [
    {
     "name": "stdout",
     "output_type": "stream",
     "text": [
      "Enter10\n",
      "Enter5\n",
      "Division 2.0\n"
     ]
    }
   ],
   "source": [
    "x=int(input(\"Enter\"))\n",
    "y=int(input(\"Enter\"))\n",
    "z=x/y\n",
    "print(\"Division\", z)"
   ]
  },
  {
   "cell_type": "markdown",
   "id": "da2b4b4b",
   "metadata": {},
   "source": [
    "# Modulus"
   ]
  },
  {
   "cell_type": "code",
   "execution_count": 9,
   "id": "121ab6e9",
   "metadata": {},
   "outputs": [
    {
     "name": "stdout",
     "output_type": "stream",
     "text": [
      "Enter23\n",
      "Enter5\n",
      "Modulus 3\n"
     ]
    }
   ],
   "source": [
    "x=int(input(\"Enter\"))\n",
    "y=int(input(\"Enter\"))\n",
    "z=x%y\n",
    "print(\"Modulus\", z)"
   ]
  },
  {
   "cell_type": "markdown",
   "id": "76d5c528",
   "metadata": {},
   "source": [
    "# Exponent"
   ]
  },
  {
   "cell_type": "code",
   "execution_count": 12,
   "id": "d2170ad9",
   "metadata": {},
   "outputs": [
    {
     "name": "stdout",
     "output_type": "stream",
     "text": [
      "Enter3\n",
      "Enter2\n",
      "Exponent 9\n"
     ]
    }
   ],
   "source": [
    "x=int(input(\"Enter\"))\n",
    "y=int(input(\"Enter\"))\n",
    "z=x**y\n",
    "print(\"Exponent\", z)"
   ]
  },
  {
   "cell_type": "code",
   "execution_count": 15,
   "id": "72f128f1",
   "metadata": {},
   "outputs": [
    {
     "name": "stdout",
     "output_type": "stream",
     "text": [
      "first3\n",
      "Second3\n",
      "both are equal\n"
     ]
    }
   ],
   "source": [
    "#use of operator in conditional statement\n",
    "a=int(input(\"first\"))\n",
    "b=int(input(\"Second\"))\n",
    "if a==b:\n",
    "     print(\"both are equal\")"
   ]
  },
  {
   "cell_type": "code",
   "execution_count": 16,
   "id": "377a4ee9",
   "metadata": {},
   "outputs": [
    {
     "name": "stdout",
     "output_type": "stream",
     "text": [
      "first4\n",
      "Second5\n",
      "both are unequal\n"
     ]
    }
   ],
   "source": [
    "a=int(input(\"first\"))\n",
    "b=int(input(\"Second\"))\n",
    "if a==b:\n",
    "     print(\"both are equal\")\n",
    "else:\n",
    "     print(\"both are unequal\")"
   ]
  },
  {
   "cell_type": "code",
   "execution_count": 17,
   "id": "fc655c6d",
   "metadata": {},
   "outputs": [
    {
     "name": "stdout",
     "output_type": "stream",
     "text": [
      "True\n"
     ]
    }
   ],
   "source": [
    "m=\"my name is Rubak\"\n",
    "print(\"is\" in m)"
   ]
  },
  {
   "cell_type": "code",
   "execution_count": 18,
   "id": "e4185d57",
   "metadata": {},
   "outputs": [
    {
     "name": "stdout",
     "output_type": "stream",
     "text": [
      "False\n"
     ]
    }
   ],
   "source": [
    "m=\"my name is Rubak\"\n",
    "print(\"it\" in m)"
   ]
  },
  {
   "cell_type": "code",
   "execution_count": 19,
   "id": "a1941d43",
   "metadata": {},
   "outputs": [
    {
     "name": "stdout",
     "output_type": "stream",
     "text": [
      "True\n"
     ]
    }
   ],
   "source": [
    "m=\"my name is Rubak\"\n",
    "print(\"it\" not in m)"
   ]
  },
  {
   "cell_type": "code",
   "execution_count": 20,
   "id": "21306761",
   "metadata": {},
   "outputs": [
    {
     "name": "stdout",
     "output_type": "stream",
     "text": [
      "False\n"
     ]
    }
   ],
   "source": [
    "m=\"my name is Rubak\"\n",
    "print(\"is\" not in m)"
   ]
  },
  {
   "cell_type": "markdown",
   "id": "67443a8d",
   "metadata": {},
   "source": [
    "# Students Pass or Fail"
   ]
  },
  {
   "cell_type": "code",
   "execution_count": 21,
   "id": "84b798d2",
   "metadata": {},
   "outputs": [
    {
     "name": "stdout",
     "output_type": "stream",
     "text": [
      "Enter Percent of student 50\n",
      "Student is Pass \n"
     ]
    }
   ],
   "source": [
    "Percent = int(input(\"Enter Percent of student \"))\n",
    "if Percent>42:\n",
    "    print(\"Student is Pass \")\n",
    "else:\n",
    "    print(\"Student is Fail\")"
   ]
  },
  {
   "cell_type": "markdown",
   "id": "a77d2ac7",
   "metadata": {},
   "source": [
    "# Person Eligible to Vote"
   ]
  },
  {
   "cell_type": "code",
   "execution_count": 23,
   "id": "2a65e8aa",
   "metadata": {},
   "outputs": [
    {
     "name": "stdout",
     "output_type": "stream",
     "text": [
      "Enter Person Age13\n",
      "Person is not Eligible\n"
     ]
    }
   ],
   "source": [
    "Eligibility = int(input(\"Enter Person Age\"))\n",
    "if Eligibility>18:\n",
    "    print(\"Person is Eligible to Vote\")\n",
    "else:\n",
    "    print(\"Person is not Eligible\")"
   ]
  },
  {
   "cell_type": "markdown",
   "id": "eab661a1",
   "metadata": {},
   "source": [
    "# Enter two number and print greatest"
   ]
  },
  {
   "cell_type": "code",
   "execution_count": 24,
   "id": "7c9623ad",
   "metadata": {},
   "outputs": [
    {
     "name": "stdout",
     "output_type": "stream",
     "text": [
      " Enter the First number 34\n",
      " Enter the Second number 45\n",
      "b is greater, 45\n"
     ]
    }
   ],
   "source": [
    "a = int(input(\" Enter the First number \"))\n",
    "b = int(input(\" Enter the Second number \"))\n",
    "if a>b:\n",
    "    print(\"a is greater,\", a)\n",
    "else:\n",
    "    print(\"b is greater,\", b)"
   ]
  },
  {
   "cell_type": "markdown",
   "id": "7bbaada3",
   "metadata": {},
   "source": [
    "# Print Smallest"
   ]
  },
  {
   "cell_type": "code",
   "execution_count": 25,
   "id": "efe2bca3",
   "metadata": {},
   "outputs": [
    {
     "name": "stdout",
     "output_type": "stream",
     "text": [
      "Enter num1 23\n",
      "Enter num2 34\n",
      "a is smaller, 23\n"
     ]
    }
   ],
   "source": [
    "a = int(input(\"Enter num1 \"))\n",
    "b = int(input(\"Enter num2 \"))\n",
    "if a<b:\n",
    "    print(\"a is smaller,\", a)\n",
    "else:\n",
    "    print(\"b is smaller,\", b)"
   ]
  },
  {
   "cell_type": "markdown",
   "id": "b8eeaaab",
   "metadata": {},
   "source": [
    "# Even or Not"
   ]
  },
  {
   "cell_type": "code",
   "execution_count": 29,
   "id": "11aee1d9",
   "metadata": {},
   "outputs": [
    {
     "name": "stdout",
     "output_type": "stream",
     "text": [
      "Enter the Number23\n",
      "Num is Odd\n"
     ]
    }
   ],
   "source": [
    "Even = int(input(\"Enter the Number\"))\n",
    "if Even%2==0:\n",
    "    print(\"Num is Even\")\n",
    "else:\n",
    "    print(\"Num is Odd\")"
   ]
  },
  {
   "cell_type": "markdown",
   "id": "5adf4a3a",
   "metadata": {},
   "source": [
    "# Assignment Operator"
   ]
  },
  {
   "cell_type": "code",
   "execution_count": 30,
   "id": "cb7ea422",
   "metadata": {},
   "outputs": [
    {
     "name": "stdout",
     "output_type": "stream",
     "text": [
      "12024\n",
      "10045\n",
      "200045\n",
      "100.067\n",
      "5.021\n",
      "95367431640625.053\n"
     ]
    },
    {
     "data": {
      "text/plain": [
       "'53'"
      ]
     },
     "execution_count": 30,
     "metadata": {},
     "output_type": "execute_result"
    }
   ],
   "source": [
    "x=100\n",
    "x+=20\n",
    "input(x)\n",
    "x-=20\n",
    "input(x)\n",
    "x*=20\n",
    "input(x)\n",
    "x/=20\n",
    "input(x)\n",
    "x//=20\n",
    "input(x)\n",
    "x**=20\n",
    "input(x)"
   ]
  },
  {
   "cell_type": "code",
   "execution_count": null,
   "id": "e92ec53d",
   "metadata": {},
   "outputs": [],
   "source": []
  }
 ],
 "metadata": {
  "kernelspec": {
   "display_name": "Python 3 (ipykernel)",
   "language": "python",
   "name": "python3"
  },
  "language_info": {
   "codemirror_mode": {
    "name": "ipython",
    "version": 3
   },
   "file_extension": ".py",
   "mimetype": "text/x-python",
   "name": "python",
   "nbconvert_exporter": "python",
   "pygments_lexer": "ipython3",
   "version": "3.9.13"
  }
 },
 "nbformat": 4,
 "nbformat_minor": 5
}

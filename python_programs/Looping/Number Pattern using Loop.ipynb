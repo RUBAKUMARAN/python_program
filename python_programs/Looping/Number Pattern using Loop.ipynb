{
 "cells": [
  {
   "cell_type": "markdown",
   "id": "77b3cdd7",
   "metadata": {},
   "source": [
    "# A) Half pyramid pattern of numbers."
   ]
  },
  {
   "cell_type": "code",
   "execution_count": 9,
   "id": "d0f66d6e",
   "metadata": {},
   "outputs": [
    {
     "name": "stdout",
     "output_type": "stream",
     "text": [
      "1\n",
      "12\n",
      "123\n",
      "1234\n",
      "12345\n"
     ]
    }
   ],
   "source": [
    "for i in range(5):\n",
    "    for j in range(i+1):\n",
    "        print(j+1,end=\"\")\n",
    "    print()"
   ]
  },
  {
   "cell_type": "markdown",
   "id": "532fbbd9",
   "metadata": {},
   "source": [
    "# B) Simple number pattern"
   ]
  },
  {
   "cell_type": "code",
   "execution_count": 10,
   "id": "3575458c",
   "metadata": {},
   "outputs": [
    {
     "name": "stdout",
     "output_type": "stream",
     "text": [
      "1\n",
      "22\n",
      "333\n",
      "4444\n",
      "55555\n"
     ]
    }
   ],
   "source": [
    "for i in range(5):\n",
    "    for j in range(i+1):\n",
    "        print(i+1,end=\"\")\n",
    "    print()"
   ]
  },
  {
   "cell_type": "markdown",
   "id": "4a485994",
   "metadata": {},
   "source": [
    "# C) Reverse Number Pattern"
   ]
  },
  {
   "cell_type": "code",
   "execution_count": 11,
   "id": "ed1f2e78",
   "metadata": {},
   "outputs": [
    {
     "name": "stdout",
     "output_type": "stream",
     "text": [
      "54321\n",
      "4321\n",
      "321\n",
      "21\n",
      "1\n"
     ]
    }
   ],
   "source": [
    "for i in range(5,0,-1):\n",
    "    for j in range(i,0,-1):\n",
    "        print(j,end=\"\")\n",
    "    print()"
   ]
  },
  {
   "cell_type": "markdown",
   "id": "3c785bca",
   "metadata": {},
   "source": [
    "# D) Inverted half pyramid pattern with number"
   ]
  },
  {
   "cell_type": "code",
   "execution_count": 12,
   "id": "8bdafb53",
   "metadata": {},
   "outputs": [
    {
     "name": "stdout",
     "output_type": "stream",
     "text": [
      "12345\n",
      "1234\n",
      "123\n",
      "12\n",
      "1\n"
     ]
    }
   ],
   "source": [
    "for i in range(5,0,-1):\n",
    "    for j in range(i):\n",
    "        print(j+1,end=\"\")\n",
    "    print()"
   ]
  },
  {
   "cell_type": "markdown",
   "id": "7b139525",
   "metadata": {},
   "source": [
    "# E) Reverse Number Pattern"
   ]
  },
  {
   "cell_type": "code",
   "execution_count": 13,
   "id": "cd468d97",
   "metadata": {},
   "outputs": [
    {
     "name": "stdout",
     "output_type": "stream",
     "text": [
      "543210\n",
      "54321\n",
      "5432\n",
      "543\n",
      "54\n",
      "5\n"
     ]
    }
   ],
   "source": [
    "for i in range(6):\n",
    "    for j in range(5, i-1,-1):\n",
    "        print(j, end=\"\")\n",
    "    print()"
   ]
  },
  {
   "cell_type": "code",
   "execution_count": null,
   "id": "ec6c4d47",
   "metadata": {},
   "outputs": [],
   "source": []
  }
 ],
 "metadata": {
  "kernelspec": {
   "display_name": "Python 3 (ipykernel)",
   "language": "python",
   "name": "python3"
  },
  "language_info": {
   "codemirror_mode": {
    "name": "ipython",
    "version": 3
   },
   "file_extension": ".py",
   "mimetype": "text/x-python",
   "name": "python",
   "nbconvert_exporter": "python",
   "pygments_lexer": "ipython3",
   "version": "3.9.13"
  }
 },
 "nbformat": 4,
 "nbformat_minor": 5
}

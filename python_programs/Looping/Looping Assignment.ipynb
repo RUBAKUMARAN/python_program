{
 "cells": [
  {
   "cell_type": "markdown",
   "id": "637da8a8",
   "metadata": {},
   "source": [
    "# Q1) Write a programme for print 'Hello' ten times."
   ]
  },
  {
   "cell_type": "code",
   "execution_count": 1,
   "id": "ca067c76",
   "metadata": {},
   "outputs": [
    {
     "name": "stdout",
     "output_type": "stream",
     "text": [
      "Hello Python\n",
      "Hello Python\n",
      "Hello Python\n",
      "Hello Python\n",
      "Hello Python\n",
      "Hello Python\n",
      "Hello Python\n",
      "Hello Python\n",
      "Hello Python\n",
      "Hello Python\n"
     ]
    }
   ],
   "source": [
    "i=1\n",
    "while i<=10:\n",
    "    print('Hello Python')\n",
    "    i=i+1"
   ]
  },
  {
   "cell_type": "markdown",
   "id": "75bf576b",
   "metadata": {},
   "source": [
    "# Q2) Write a programme for print number from 1 to 10."
   ]
  },
  {
   "cell_type": "code",
   "execution_count": 2,
   "id": "1bb089c9",
   "metadata": {},
   "outputs": [
    {
     "name": "stdout",
     "output_type": "stream",
     "text": [
      "1\n",
      "2\n",
      "3\n",
      "4\n",
      "5\n",
      "6\n",
      "7\n",
      "8\n",
      "9\n",
      "10\n"
     ]
    }
   ],
   "source": [
    "i=1\n",
    "while i<=10:\n",
    "    print(i)\n",
    "    i=i+1"
   ]
  },
  {
   "cell_type": "markdown",
   "id": "b265a222",
   "metadata": {},
   "source": [
    "# Q3) Write a programme for print sum of first ten number."
   ]
  },
  {
   "cell_type": "code",
   "execution_count": 3,
   "id": "6b0d9e8a",
   "metadata": {},
   "outputs": [
    {
     "name": "stdout",
     "output_type": "stream",
     "text": [
      "1\n",
      "3\n",
      "6\n",
      "10\n",
      "15\n",
      "21\n",
      "28\n",
      "36\n",
      "45\n",
      "55\n"
     ]
    }
   ],
   "source": [
    "i=1\n",
    "add=0\n",
    "while i<=10:\n",
    "    add=add+i\n",
    "    i=i+1\n",
    "    print(add)"
   ]
  },
  {
   "cell_type": "markdown",
   "id": "9eff7711",
   "metadata": {},
   "source": [
    "# Q4) Write a programme for print n number entered by user."
   ]
  },
  {
   "cell_type": "code",
   "execution_count": 4,
   "id": "eb4167f1",
   "metadata": {},
   "outputs": [
    {
     "name": "stdout",
     "output_type": "stream",
     "text": [
      "Enter the number 2\n",
      "1\n",
      "2\n"
     ]
    }
   ],
   "source": [
    "i=1\n",
    "n=int(input(\"Enter the number \"))\n",
    "while i<=n:\n",
    "    print(i)\n",
    "    i=i+1"
   ]
  },
  {
   "cell_type": "markdown",
   "id": "7053c2ac",
   "metadata": {},
   "source": [
    "# Q5) Write a programme for print sum of n numbers.\n"
   ]
  },
  {
   "cell_type": "code",
   "execution_count": 5,
   "id": "c7ed2a57",
   "metadata": {},
   "outputs": [
    {
     "name": "stdout",
     "output_type": "stream",
     "text": [
      "Enter the number 4\n",
      "1\n",
      "3\n",
      "6\n",
      "10\n"
     ]
    }
   ],
   "source": [
    "i=1\n",
    "n=int(input(\"Enter the number \"))\n",
    "add=0\n",
    "while i<=n:\n",
    "    add=add+i\n",
    "    print(add)\n",
    "    i=i+1"
   ]
  },
  {
   "cell_type": "markdown",
   "id": "2e837986",
   "metadata": {},
   "source": [
    "# Q6) Write a programme for print table of a numbers."
   ]
  },
  {
   "cell_type": "code",
   "execution_count": 6,
   "id": "41adb0c9",
   "metadata": {},
   "outputs": [
    {
     "name": "stdout",
     "output_type": "stream",
     "text": [
      "Enter the number3\n",
      "3\n",
      "6\n",
      "9\n",
      "12\n",
      "15\n",
      "18\n",
      "21\n",
      "24\n",
      "27\n",
      "30\n"
     ]
    }
   ],
   "source": [
    "n=int(input(\"Enter the number\"))\n",
    "i=1\n",
    "while i<=10:\n",
    "    t=n*i\n",
    "    print(t)\n",
    "    i=i+1"
   ]
  },
  {
   "cell_type": "markdown",
   "id": "91e5c5e6",
   "metadata": {},
   "source": [
    "# Q7) Write a programme to calculate the Factorial of a number."
   ]
  },
  {
   "cell_type": "code",
   "execution_count": 8,
   "id": "b3c0c81d",
   "metadata": {},
   "outputs": [
    {
     "name": "stdout",
     "output_type": "stream",
     "text": [
      "Enter the number4\n",
      "4\n",
      "12\n",
      "24\n",
      "24\n"
     ]
    }
   ],
   "source": [
    "n=int(input('Enter the number'))\n",
    "f=1\n",
    "while n>0:\n",
    "    f=f*n\n",
    "    n=n-1\n",
    "    print(f)"
   ]
  },
  {
   "cell_type": "markdown",
   "id": "280c06ee",
   "metadata": {},
   "source": [
    "# Q8) Write a programme for print even number from 1 to 100."
   ]
  },
  {
   "cell_type": "code",
   "execution_count": 10,
   "id": "82439744",
   "metadata": {},
   "outputs": [
    {
     "name": "stdout",
     "output_type": "stream",
     "text": [
      "Enter a number: 13\n",
      "2  \n",
      "4  \n",
      "6  \n",
      "8  \n",
      "10  \n",
      "12  \n"
     ]
    }
   ],
   "source": [
    "x = int(input(\"Enter a number: \"))\n",
    "i = 1\n",
    "\n",
    "while i <= x:\n",
    "    if i % 2 == 0:\n",
    "        print(i, \" \")\n",
    "    i = i + 1"
   ]
  },
  {
   "cell_type": "markdown",
   "id": "70b7b2fd",
   "metadata": {},
   "source": [
    "# Q9) Write a programme for print odd number from 1 to 100"
   ]
  },
  {
   "cell_type": "code",
   "execution_count": 11,
   "id": "ec74d9a7",
   "metadata": {},
   "outputs": [
    {
     "name": "stdout",
     "output_type": "stream",
     "text": [
      "Enter a number: 16\n",
      "1  \n",
      "3  \n",
      "5  \n",
      "7  \n",
      "9  \n",
      "11  \n",
      "13  \n",
      "15  \n"
     ]
    }
   ],
   "source": [
    "x = int(input(\"Enter a number: \"))\n",
    "i = 1\n",
    "\n",
    "while i <= x:\n",
    "    if i % 2 != 0:\n",
    "        print(i, \" \")\n",
    "    i = i + 1"
   ]
  },
  {
   "cell_type": "markdown",
   "id": "687ef953",
   "metadata": {},
   "source": [
    "# Q10) Write a programme to check whether the number is Palindrome or not."
   ]
  },
  {
   "cell_type": "code",
   "execution_count": 12,
   "id": "7a3ff01a",
   "metadata": {},
   "outputs": [
    {
     "name": "stdout",
     "output_type": "stream",
     "text": [
      "Enter a number2347\n",
      "The number is not Palindrome\n"
     ]
    }
   ],
   "source": [
    "n=int(input(\"Enter a number\"))\n",
    "t=n\n",
    "r=0\n",
    "while n>0:\n",
    "    d=n%10\n",
    "    r=r*10+d\n",
    "    n=n//10\n",
    "if t==r:\n",
    "    print('The number is Palindrome')\n",
    "else:\n",
    "    print('The number is not Palindrome')"
   ]
  },
  {
   "cell_type": "markdown",
   "id": "0ce096f4",
   "metadata": {},
   "source": [
    "# Q11) Write a Programme to find the factor of number."
   ]
  },
  {
   "cell_type": "code",
   "execution_count": 13,
   "id": "8aacc099",
   "metadata": {},
   "outputs": [
    {
     "name": "stdout",
     "output_type": "stream",
     "text": [
      "Enter a number3\n",
      "1\n",
      "3\n",
      "is a Factor of a number\n"
     ]
    }
   ],
   "source": [
    "n=int(input('Enter a number'))\n",
    "i=0\n",
    "count=0\n",
    "for i in range(1, n+1):\n",
    "    if n%i==0:\n",
    "        print(i)\n",
    "        i=i+1\n",
    "        count=count+0\n",
    "print('is a Factor of a number')"
   ]
  },
  {
   "cell_type": "markdown",
   "id": "daa632d8",
   "metadata": {},
   "source": [
    "# Q12) Write a programme to print a reverse of a number"
   ]
  },
  {
   "cell_type": "code",
   "execution_count": 14,
   "id": "24d5f57c",
   "metadata": {},
   "outputs": [
    {
     "name": "stdout",
     "output_type": "stream",
     "text": [
      "Enter a number6743\n",
      "3476\n"
     ]
    }
   ],
   "source": [
    "n=int(input('Enter a number'))\n",
    "r=0\n",
    "while n>0:\n",
    "    d=n%10\n",
    "    r=r*10+d\n",
    "    n=n//10\n",
    "print(r)"
   ]
  },
  {
   "cell_type": "markdown",
   "id": "c44e880f",
   "metadata": {},
   "source": [
    "# Q13) Write a programme to print a sum of a reverese of a number."
   ]
  },
  {
   "cell_type": "code",
   "execution_count": 15,
   "id": "2023da90",
   "metadata": {},
   "outputs": [
    {
     "name": "stdout",
     "output_type": "stream",
     "text": [
      "Enter a number465\n",
      "Sum of a reverse of a number 15\n"
     ]
    }
   ],
   "source": [
    "n=int(input('Enter a number'))\n",
    "i=1\n",
    "sum=0\n",
    "for i in range(n):\n",
    "    d=n%10\n",
    "    sum=sum+d\n",
    "    n=n//10\n",
    "print('Sum of a reverse of a number', sum)"
   ]
  },
  {
   "cell_type": "markdown",
   "id": "240c2941",
   "metadata": {},
   "source": [
    "# Q14) Write a programme to check a number is prime or not."
   ]
  },
  {
   "cell_type": "code",
   "execution_count": 17,
   "id": "eb230325",
   "metadata": {},
   "outputs": [
    {
     "name": "stdout",
     "output_type": "stream",
     "text": [
      "Enter a number5\n",
      "Its a prime number 5\n"
     ]
    }
   ],
   "source": [
    "n=int(input('Enter a number'))\n",
    "c=0\n",
    "for i in range(n//2+1 , 2):\n",
    "        if n%i==0:\n",
    "            c=c+1\n",
    "            break\n",
    "if c==0 and n>1:\n",
    "    print(\"Its a prime number\", n)\n",
    "else:\n",
    "    print(\"Its not a prime number\", n)"
   ]
  },
  {
   "cell_type": "markdown",
   "id": "adc7995c",
   "metadata": {},
   "source": [
    "# Q15) Write a programe to print the Cube of all number from 1 to given number."
   ]
  },
  {
   "cell_type": "code",
   "execution_count": 18,
   "id": "7184f929",
   "metadata": {},
   "outputs": [
    {
     "name": "stdout",
     "output_type": "stream",
     "text": [
      "Enter a number 4\n",
      "Cube is  64\n"
     ]
    }
   ],
   "source": [
    "n = int(input(\"Enter a number \"))\n",
    "for i in range(n):\n",
    "    i=i+1\n",
    "print(\"Cube is \", i*i*i)"
   ]
  },
  {
   "cell_type": "markdown",
   "id": "9dcaa321",
   "metadata": {},
   "source": [
    "# Q16) write a program to count total number of a digit in number python.\n"
   ]
  },
  {
   "cell_type": "code",
   "execution_count": 19,
   "id": "a25646a6",
   "metadata": {},
   "outputs": [
    {
     "name": "stdout",
     "output_type": "stream",
     "text": [
      "Enter a number756\n",
      "The number of digit in the number is  3\n"
     ]
    }
   ],
   "source": [
    "n=int(input('Enter a number'))\n",
    "count=0\n",
    "while n>0:\n",
    "    count=count+1\n",
    "    n=n//10\n",
    "print('The number of digit in the number is ', count)"
   ]
  },
  {
   "cell_type": "markdown",
   "id": "024ca6f8",
   "metadata": {},
   "source": [
    "# Q17) write a programme to print a Fibonaaci Series."
   ]
  },
  {
   "cell_type": "code",
   "execution_count": 20,
   "id": "40e6ab7b",
   "metadata": {},
   "outputs": [
    {
     "name": "stdout",
     "output_type": "stream",
     "text": [
      "Enter a number3\n",
      "Fibonacci series: \n",
      "0\n",
      "1\n",
      "1\n"
     ]
    }
   ],
   "source": [
    "n=int(input('Enter a number'))\n",
    "n1, n2 = 0, 1\n",
    "count=0\n",
    "if n<=0:\n",
    "    print('Enter a Integer')\n",
    "elif n==1:\n",
    "        print('Fibonaaci series', n , \":\")\n",
    "        print(n1)\n",
    "else:\n",
    "    print('Fibonacci series: ')\n",
    "    while count<n:\n",
    "        print(n1)\n",
    "        nth=n1+n2\n",
    "        n1=n2\n",
    "        n2=nth\n",
    "        count=count+1\n"
   ]
  },
  {
   "cell_type": "markdown",
   "id": "fd88694d",
   "metadata": {},
   "source": [
    "# Q18) Write a programme to check a number is Armstrong or not."
   ]
  },
  {
   "cell_type": "markdown",
   "id": "54d7920f",
   "metadata": {},
   "source": [
    "the sum of cubes of each digit is equal to the number itself\n",
    "armstrong number also known as … digits for example 370 is an armstrong number since 370 3 3 3 7 7 7 0 0"
   ]
  },
  {
   "cell_type": "code",
   "execution_count": 21,
   "id": "6645c70a",
   "metadata": {},
   "outputs": [
    {
     "name": "stdout",
     "output_type": "stream",
     "text": [
      "Enter a number23\n",
      "Not a Armstrong Number 23\n"
     ]
    }
   ],
   "source": [
    "n=int(input(\"Enter a number\"))\n",
    "sum=0\n",
    "t=n\n",
    "while t>0:\n",
    "    d=t%10\n",
    "    sum=sum+d**3\n",
    "    t=t//10\n",
    "if n==sum:\n",
    "    print(\"Armstrong Number\", n)\n",
    "else:\n",
    "    print(\"Not a Armstrong Number\", n)"
   ]
  },
  {
   "cell_type": "markdown",
   "id": "0aba74c3",
   "metadata": {},
   "source": [
    "# Q19) Write a programme to check number is strong number or not."
   ]
  },
  {
   "cell_type": "code",
   "execution_count": 22,
   "id": "628f5cf7",
   "metadata": {},
   "outputs": [
    {
     "name": "stdout",
     "output_type": "stream",
     "text": [
      "Enter a number:230\n",
      "The number is not a strong number\n"
     ]
    }
   ],
   "source": [
    "sum1=0\n",
    "num=int(input(\"Enter a number:\"))\n",
    "temp=num\n",
    "while(num):\n",
    "    i=1\n",
    "    f=1\n",
    "    r=num%10\n",
    "    while(i<=r):\n",
    "        f=f*i\n",
    "        i=i+1\n",
    "    sum1=sum1+f\n",
    "    num=num//10\n",
    "if(sum1==temp):\n",
    "    print(\"The number is a strong number\")\n",
    "else:\n",
    "    print(\"The number is not a strong number\")"
   ]
  },
  {
   "cell_type": "markdown",
   "id": "4765df0d",
   "metadata": {},
   "source": [
    "# Q20) Write a programme to check whether a given number is perfect or not."
   ]
  },
  {
   "cell_type": "code",
   "execution_count": 23,
   "id": "eb40bab9",
   "metadata": {},
   "outputs": [
    {
     "name": "stdout",
     "output_type": "stream",
     "text": [
      "Enter a number13\n",
      "13 is a prime number\n"
     ]
    }
   ],
   "source": [
    "num = int(input(\"Enter a number\"))\n",
    "if num > 1:\n",
    "    for i in range(2, int(num/2)+1):\n",
    "        if (num % i) == 0:\n",
    "            print(num, \"is not a prime number\")\n",
    "            break\n",
    "    else:\n",
    "        print(num, \"is a prime number\")\n",
    "else:\n",
    "    print(num, \"is not a prime number\")"
   ]
  },
  {
   "cell_type": "code",
   "execution_count": null,
   "id": "5b058e38",
   "metadata": {},
   "outputs": [],
   "source": []
  }
 ],
 "metadata": {
  "kernelspec": {
   "display_name": "Python 3 (ipykernel)",
   "language": "python",
   "name": "python3"
  },
  "language_info": {
   "codemirror_mode": {
    "name": "ipython",
    "version": 3
   },
   "file_extension": ".py",
   "mimetype": "text/x-python",
   "name": "python",
   "nbconvert_exporter": "python",
   "pygments_lexer": "ipython3",
   "version": "3.9.13"
  }
 },
 "nbformat": 4,
 "nbformat_minor": 5
}

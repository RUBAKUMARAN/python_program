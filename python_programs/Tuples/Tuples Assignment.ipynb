{
 "cells": [
  {
   "cell_type": "markdown",
   "id": "2670da75",
   "metadata": {},
   "source": [
    "# Q1) Write a program to create a Tuples."
   ]
  },
  {
   "cell_type": "code",
   "execution_count": 6,
   "id": "198ea9ca",
   "metadata": {},
   "outputs": [
    {
     "name": "stdout",
     "output_type": "stream",
     "text": [
      "(12, 45, 36, 'rubak')\n"
     ]
    }
   ],
   "source": [
    "t=(12,45,36,'rubak')\n",
    "t1=t\n",
    "print(t1)"
   ]
  },
  {
   "cell_type": "code",
   "execution_count": 2,
   "id": "2c380fbc",
   "metadata": {},
   "outputs": [
    {
     "data": {
      "text/plain": [
       "tuple"
      ]
     },
     "execution_count": 2,
     "metadata": {},
     "output_type": "execute_result"
    }
   ],
   "source": [
    "type(t)"
   ]
  },
  {
   "cell_type": "markdown",
   "id": "3a2a1970",
   "metadata": {},
   "source": [
    "# Q2) Write a programe to create a Tuple with different data types."
   ]
  },
  {
   "cell_type": "code",
   "execution_count": 7,
   "id": "0fc07ef0",
   "metadata": {},
   "outputs": [
    {
     "name": "stdout",
     "output_type": "stream",
     "text": [
      "(12, 45, 36, 'rubak')\n"
     ]
    }
   ],
   "source": [
    "t=[(1,5,36,78,96)]\n",
    "t=t1\n",
    "print(t1)"
   ]
  },
  {
   "cell_type": "code",
   "execution_count": 4,
   "id": "e0071e50",
   "metadata": {},
   "outputs": [
    {
     "data": {
      "text/plain": [
       "tuple"
      ]
     },
     "execution_count": 4,
     "metadata": {},
     "output_type": "execute_result"
    }
   ],
   "source": [
    "type(t)"
   ]
  },
  {
   "cell_type": "code",
   "execution_count": 8,
   "id": "12a2a7ad",
   "metadata": {},
   "outputs": [
    {
     "name": "stdout",
     "output_type": "stream",
     "text": [
      "([23, 6], 'rubak', 56, [1, 2, 3, 4])\n"
     ]
    }
   ],
   "source": [
    "t=([23,6,],'rubak',56,[1,2,3,4])\n",
    "print(t)"
   ]
  },
  {
   "cell_type": "code",
   "execution_count": 9,
   "id": "116db1ba",
   "metadata": {},
   "outputs": [
    {
     "data": {
      "text/plain": [
       "tuple"
      ]
     },
     "execution_count": 9,
     "metadata": {},
     "output_type": "execute_result"
    }
   ],
   "source": [
    "type(t)"
   ]
  },
  {
   "cell_type": "code",
   "execution_count": 10,
   "id": "e9570dc6",
   "metadata": {},
   "outputs": [
    {
     "name": "stdout",
     "output_type": "stream",
     "text": [
      "{2, 4, 6, 8, 45, 78}\n"
     ]
    }
   ],
   "source": [
    "d={2,4,6,8,78,45}\n",
    "print(d)"
   ]
  },
  {
   "cell_type": "code",
   "execution_count": 11,
   "id": "95699801",
   "metadata": {},
   "outputs": [
    {
     "data": {
      "text/plain": [
       "set"
      ]
     },
     "execution_count": 11,
     "metadata": {},
     "output_type": "execute_result"
    }
   ],
   "source": [
    "type(d)"
   ]
  },
  {
   "cell_type": "code",
   "execution_count": 12,
   "id": "7700ce44",
   "metadata": {},
   "outputs": [
    {
     "name": "stdout",
     "output_type": "stream",
     "text": [
      "{1: 'one', 2: 'Two', 3: 'Three'}\n"
     ]
    }
   ],
   "source": [
    "d1={1:'one',2:'Two',3:'Three'}\n",
    "print(d1)"
   ]
  },
  {
   "cell_type": "code",
   "execution_count": 13,
   "id": "d41250c4",
   "metadata": {},
   "outputs": [
    {
     "data": {
      "text/plain": [
       "dict"
      ]
     },
     "execution_count": 13,
     "metadata": {},
     "output_type": "execute_result"
    }
   ],
   "source": [
    "type(d1)"
   ]
  },
  {
   "cell_type": "code",
   "execution_count": 14,
   "id": "854ae73e",
   "metadata": {},
   "outputs": [
    {
     "name": "stdout",
     "output_type": "stream",
     "text": [
      "[12, 36, 52, 'rubak', (5+8j)]\n"
     ]
    }
   ],
   "source": [
    "l=[12,36,52,'rubak',5+8j]\n",
    "print(l)"
   ]
  },
  {
   "cell_type": "code",
   "execution_count": 15,
   "id": "38fe025d",
   "metadata": {},
   "outputs": [
    {
     "data": {
      "text/plain": [
       "list"
      ]
     },
     "execution_count": 15,
     "metadata": {},
     "output_type": "execute_result"
    }
   ],
   "source": [
    "type(l)"
   ]
  },
  {
   "cell_type": "markdown",
   "id": "02636db2",
   "metadata": {},
   "source": [
    "# Q3) Write a program to create tuple with numbers and print one item."
   ]
  },
  {
   "cell_type": "code",
   "execution_count": 16,
   "id": "b0c55598",
   "metadata": {},
   "outputs": [
    {
     "name": "stdout",
     "output_type": "stream",
     "text": [
      "(5, 10, 15, 20, 25)\n"
     ]
    }
   ],
   "source": [
    "tuple = (5, 10, 15, 20, 25)\n",
    "print(tuple)"
   ]
  },
  {
   "cell_type": "code",
   "execution_count": 17,
   "id": "164d0f86",
   "metadata": {},
   "outputs": [
    {
     "data": {
      "text/plain": [
       "5"
      ]
     },
     "execution_count": 17,
     "metadata": {},
     "output_type": "execute_result"
    }
   ],
   "source": [
    "tuple[0]"
   ]
  },
  {
   "cell_type": "markdown",
   "id": "9dc55fd7",
   "metadata": {},
   "source": [
    "# Q4) Write a program to convert Tuple to a String."
   ]
  },
  {
   "cell_type": "code",
   "execution_count": 18,
   "id": "640b06bf",
   "metadata": {},
   "outputs": [
    {
     "data": {
      "text/plain": [
       "('Welcome', 'to', 'Python', 'World')"
      ]
     },
     "execution_count": 18,
     "metadata": {},
     "output_type": "execute_result"
    }
   ],
   "source": [
    "T = ('Welcome', 'to', 'Python', 'World')\n",
    "T"
   ]
  },
  {
   "cell_type": "code",
   "execution_count": 19,
   "id": "d7b24321",
   "metadata": {},
   "outputs": [
    {
     "name": "stdout",
     "output_type": "stream",
     "text": [
      "WelcometoPythonWorld\n"
     ]
    }
   ],
   "source": [
    "t1 = T\n",
    "str = ''.join(t1)\n",
    "print (str)"
   ]
  },
  {
   "cell_type": "code",
   "execution_count": 20,
   "id": "cff06f37",
   "metadata": {},
   "outputs": [
    {
     "data": {
      "text/plain": [
       "tuple"
      ]
     },
     "execution_count": 20,
     "metadata": {},
     "output_type": "execute_result"
    }
   ],
   "source": [
    "type(T)"
   ]
  },
  {
   "cell_type": "markdown",
   "id": "a36a5d81",
   "metadata": {},
   "source": [
    "# Q5) Write a program to get the 4th element and 4th element from last of a tuple."
   ]
  },
  {
   "cell_type": "code",
   "execution_count": 21,
   "id": "95872cc6",
   "metadata": {},
   "outputs": [
    {
     "name": "stdout",
     "output_type": "stream",
     "text": [
      "('Welcome', 'to', 'Python', 'World', 'of', 'Programming')\n",
      "4th Elements From Tuple : World\n",
      "4th Elements From Last Tuple : Python\n"
     ]
    }
   ],
   "source": [
    "t = ('Welcome', 'to', 'Python', 'World','of','Programming')\n",
    "print(t)\n",
    "i = t[3]\n",
    "print(\"4th Elements From Tuple :\",i)\n",
    "j = t[-4]\n",
    "print(\"4th Elements From Last Tuple :\",j)"
   ]
  },
  {
   "cell_type": "markdown",
   "id": "55349669",
   "metadata": {},
   "source": [
    "# Q6) Write a program to add item to tuple."
   ]
  },
  {
   "cell_type": "code",
   "execution_count": 22,
   "id": "11f7757f",
   "metadata": {},
   "outputs": [
    {
     "name": "stdout",
     "output_type": "stream",
     "text": [
      "(2, 5, 8, 8, 16, 67)\n",
      "(2, 5, 8)\n"
     ]
    }
   ],
   "source": [
    "s=(2,5,8)\n",
    "s1 = s + (8, 16, 67)\n",
    "print(s1)\n",
    "print(s)"
   ]
  },
  {
   "cell_type": "code",
   "execution_count": 23,
   "id": "e6c8ff0e",
   "metadata": {},
   "outputs": [
    {
     "data": {
      "text/plain": [
       "tuple"
      ]
     },
     "execution_count": 23,
     "metadata": {},
     "output_type": "execute_result"
    }
   ],
   "source": [
    "type(s)\n"
   ]
  },
  {
   "cell_type": "code",
   "execution_count": 24,
   "id": "b7b91cc5",
   "metadata": {},
   "outputs": [
    {
     "data": {
      "text/plain": [
       "tuple"
      ]
     },
     "execution_count": 24,
     "metadata": {},
     "output_type": "execute_result"
    }
   ],
   "source": [
    "type(s1)"
   ]
  },
  {
   "cell_type": "code",
   "execution_count": null,
   "id": "bda921b0",
   "metadata": {},
   "outputs": [],
   "source": []
  }
 ],
 "metadata": {
  "kernelspec": {
   "display_name": "Python 3 (ipykernel)",
   "language": "python",
   "name": "python3"
  },
  "language_info": {
   "codemirror_mode": {
    "name": "ipython",
    "version": 3
   },
   "file_extension": ".py",
   "mimetype": "text/x-python",
   "name": "python",
   "nbconvert_exporter": "python",
   "pygments_lexer": "ipython3",
   "version": "3.9.13"
  }
 },
 "nbformat": 4,
 "nbformat_minor": 5
}

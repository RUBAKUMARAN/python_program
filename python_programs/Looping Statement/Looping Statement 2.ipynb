{
 "cells": [
  {
   "cell_type": "markdown",
   "id": "ce589dc7",
   "metadata": {},
   "source": [
    "# Factors of a number"
   ]
  },
  {
   "cell_type": "code",
   "execution_count": 1,
   "id": "da79c6ea",
   "metadata": {},
   "outputs": [
    {
     "name": "stdout",
     "output_type": "stream",
     "text": [
      "enter any number:7\n",
      "1\n",
      "7\n",
      "total no.of factors = 2\n"
     ]
    }
   ],
   "source": [
    "n = int(input('enter any number:'))\n",
    "i = 1\n",
    "count = 0\n",
    "for i in range(1,n+1):\n",
    "    if n%i==0:\n",
    "        print(i)\n",
    "        i = i+1\n",
    "        count = count+1\n",
    "print(\"total no.of factors =\", count)\n"
   ]
  },
  {
   "cell_type": "markdown",
   "id": "bbe9f81a",
   "metadata": {},
   "source": [
    "# Reverse of a number"
   ]
  },
  {
   "cell_type": "code",
   "execution_count": 3,
   "id": "c0702c91",
   "metadata": {},
   "outputs": [
    {
     "name": "stdout",
     "output_type": "stream",
     "text": [
      "enter any number:345\n",
      "543\n"
     ]
    }
   ],
   "source": [
    "n = int(input('enter any number:'))\n",
    "i = 1\n",
    "rev = 0\n",
    "while n>0:\n",
    "    rem = n%10\n",
    "    rev = (rev*10)+rem\n",
    "    n = n//10\n",
    "print(rev)"
   ]
  },
  {
   "cell_type": "markdown",
   "id": "b49d3509",
   "metadata": {},
   "source": [
    "# Sum of reverse of a number\n"
   ]
  },
  {
   "cell_type": "code",
   "execution_count": 4,
   "id": "0bdb9aa2",
   "metadata": {},
   "outputs": [
    {
     "name": "stdout",
     "output_type": "stream",
     "text": [
      "enter any number:567\n",
      "sum of reverse of number = 18\n"
     ]
    }
   ],
   "source": [
    "n = int(input('enter any number:'))\n",
    "i = 1\n",
    "sum = 0\n",
    "for i in range(n):\n",
    "    rem = n%10\n",
    "    sum = sum + rem\n",
    "    n = n//10  \n",
    "print(\"sum of reverse of number =\", sum)"
   ]
  },
  {
   "cell_type": "markdown",
   "id": "e13eeb20",
   "metadata": {},
   "source": [
    "# Prime number or not"
   ]
  },
  {
   "cell_type": "code",
   "execution_count": 5,
   "id": "a8b3a45d",
   "metadata": {},
   "outputs": [
    {
     "name": "stdout",
     "output_type": "stream",
     "text": [
      "enter any number:25\n",
      "25 is not a prime number\n"
     ]
    }
   ],
   "source": [
    "n = int(input('enter any number:'))\n",
    "i = 1\n",
    "count = 0\n",
    "for i in range(1,n+1):\n",
    "    if n%i==0:\n",
    "        count = count+1\n",
    "    i = i+1\n",
    "if count==2:\n",
    "    print(n, \"is prime number\")\n",
    "else:\n",
    "    print(n, \"is not a prime number\")"
   ]
  },
  {
   "cell_type": "markdown",
   "id": "ffbe64f6",
   "metadata": {},
   "source": [
    "# Prime numbers between 1 to 100"
   ]
  },
  {
   "cell_type": "code",
   "execution_count": 6,
   "id": "4c1aa0e4",
   "metadata": {},
   "outputs": [
    {
     "name": "stdout",
     "output_type": "stream",
     "text": [
      "2\n",
      "3\n",
      "5\n",
      "7\n",
      "11\n",
      "13\n",
      "17\n",
      "19\n",
      "23\n",
      "29\n",
      "31\n",
      "37\n",
      "41\n",
      "43\n",
      "47\n",
      "53\n",
      "59\n",
      "61\n",
      "67\n",
      "71\n",
      "73\n",
      "79\n",
      "83\n",
      "89\n",
      "97\n"
     ]
    }
   ],
   "source": [
    "for n in range(1,101):\n",
    "    count = 0\n",
    "    for i in range(2, (n//2+1)):\n",
    "        if n%i==0:\n",
    "            count = count + 1\n",
    "            break\n",
    "    if (count==0 and n>1):\n",
    "        print(n)"
   ]
  },
  {
   "cell_type": "markdown",
   "id": "e493d3b6",
   "metadata": {},
   "source": [
    "# Cube of numbers"
   ]
  },
  {
   "cell_type": "code",
   "execution_count": 9,
   "id": "13f930a7",
   "metadata": {},
   "outputs": [
    {
     "name": "stdout",
     "output_type": "stream",
     "text": [
      "enter any number:4\n",
      "1\n",
      "8\n",
      "27\n",
      "64\n"
     ]
    }
   ],
   "source": [
    "n = int(input('enter any number:'))\n",
    "i = 1\n",
    "for i in range(1,n+1):\n",
    "    cube = (i**3)\n",
    "    print(cube)\n",
    "    i+=1"
   ]
  },
  {
   "cell_type": "markdown",
   "id": "0b44e1bc",
   "metadata": {},
   "source": [
    "# Palindrome"
   ]
  },
  {
   "cell_type": "code",
   "execution_count": 10,
   "id": "8ca0b95c",
   "metadata": {},
   "outputs": [
    {
     "name": "stdout",
     "output_type": "stream",
     "text": [
      "enter any number:34567\n",
      "34567 is not palindrome\n"
     ]
    }
   ],
   "source": [
    "n = int(input('enter any number:'))\n",
    "i = 1\n",
    "rev = 0\n",
    "org = n\n",
    "for i in range(n):\n",
    "    rem = n%10\n",
    "    rev = (rev*10)+rem\n",
    "    n = n//10\n",
    "    if n==0:\n",
    "        break\n",
    "if org==rev:\n",
    "    print(org, \"is palindrome\")\n",
    "else:\n",
    "    print(org, \"is not palindrome\")"
   ]
  },
  {
   "cell_type": "markdown",
   "id": "5237209c",
   "metadata": {},
   "source": [
    "# Reverse of numbers"
   ]
  },
  {
   "cell_type": "code",
   "execution_count": 11,
   "id": "79de7974",
   "metadata": {},
   "outputs": [
    {
     "name": "stdout",
     "output_type": "stream",
     "text": [
      "enter any number:3\n",
      "3\n",
      "2\n",
      "1\n"
     ]
    }
   ],
   "source": [
    "n = int(input('enter any number:'))\n",
    "for i in range(n,0,-1):\n",
    "    print(i)"
   ]
  },
  {
   "cell_type": "markdown",
   "id": "69548dfa",
   "metadata": {},
   "source": [
    "# Break Statement"
   ]
  },
  {
   "cell_type": "code",
   "execution_count": 12,
   "id": "80b9d0f7",
   "metadata": {},
   "outputs": [
    {
     "name": "stdout",
     "output_type": "stream",
     "text": [
      "0\n",
      "1\n",
      "2\n",
      "3\n",
      "4\n"
     ]
    }
   ],
   "source": [
    "for i in range(10):\n",
    "    if i==5:\n",
    "        break\n",
    "    else:\n",
    "        print(i)"
   ]
  },
  {
   "cell_type": "markdown",
   "id": "7323a695",
   "metadata": {},
   "source": [
    "# Continue Statement"
   ]
  },
  {
   "cell_type": "code",
   "execution_count": 13,
   "id": "de1d28a6",
   "metadata": {},
   "outputs": [
    {
     "name": "stdout",
     "output_type": "stream",
     "text": [
      "0\n",
      "1\n",
      "2\n",
      "3\n",
      "4\n",
      "6\n",
      "7\n",
      "8\n",
      "9\n"
     ]
    }
   ],
   "source": [
    "for i in range(10):\n",
    "    if i==5:\n",
    "        continue\n",
    "    else:\n",
    "        print(i)"
   ]
  },
  {
   "cell_type": "markdown",
   "id": "dc04163c",
   "metadata": {},
   "source": [
    "# Pass Statement"
   ]
  },
  {
   "cell_type": "code",
   "execution_count": 14,
   "id": "9d1792f7",
   "metadata": {},
   "outputs": [
    {
     "name": "stdout",
     "output_type": "stream",
     "text": [
      "0\n",
      "1\n",
      "2\n",
      "3\n",
      "4\n",
      "This is pass block\n",
      "5\n",
      "6\n",
      "7\n",
      "8\n",
      "9\n"
     ]
    }
   ],
   "source": [
    "for i in range(10):\n",
    "    if i==5:\n",
    "        pass\n",
    "        print(\"This is pass block\")\n",
    "    print(i)"
   ]
  },
  {
   "cell_type": "code",
   "execution_count": null,
   "id": "b2800aac",
   "metadata": {},
   "outputs": [],
   "source": []
  }
 ],
 "metadata": {
  "kernelspec": {
   "display_name": "Python 3 (ipykernel)",
   "language": "python",
   "name": "python3"
  },
  "language_info": {
   "codemirror_mode": {
    "name": "ipython",
    "version": 3
   },
   "file_extension": ".py",
   "mimetype": "text/x-python",
   "name": "python",
   "nbconvert_exporter": "python",
   "pygments_lexer": "ipython3",
   "version": "3.9.12"
  }
 },
 "nbformat": 4,
 "nbformat_minor": 5
}

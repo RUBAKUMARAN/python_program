{
 "cells": [
  {
   "cell_type": "markdown",
   "id": "c9400adc",
   "metadata": {},
   "source": [
    "# Number of digits in a number"
   ]
  },
  {
   "cell_type": "code",
   "execution_count": 1,
   "id": "db5cc7b1",
   "metadata": {},
   "outputs": [
    {
     "name": "stdout",
     "output_type": "stream",
     "text": [
      "enter any number:23564\n",
      "no.of digits in a number = 5\n"
     ]
    }
   ],
   "source": [
    "n = int(input('enter any number:'))\n",
    "i = 1\n",
    "count = 0\n",
    "for i in range(n):\n",
    "    rem = n%10\n",
    "    n = n//10\n",
    "    count = count + 1 \n",
    "    if n==0:\n",
    "        break\n",
    "print(\"no.of digits in a number =\", count)"
   ]
  },
  {
   "cell_type": "markdown",
   "id": "cc532dfd",
   "metadata": {},
   "source": [
    "# Amstrong Number (for 3 digit no) - sum of cube of digits equal to number"
   ]
  },
  {
   "cell_type": "code",
   "execution_count": 2,
   "id": "c2294ea5",
   "metadata": {},
   "outputs": [
    {
     "name": "stdout",
     "output_type": "stream",
     "text": [
      "enter any number:534\n",
      "534 is not amstrong number\n"
     ]
    }
   ],
   "source": [
    "n = int(input('enter any number:'))\n",
    "org = n\n",
    "i = 1\n",
    "sum = 0\n",
    "for i in range(n):\n",
    "    rem = n%10\n",
    "    cube = rem**3\n",
    "    n = n//10\n",
    "    sum = sum + cube \n",
    "    if n==0:\n",
    "        break\n",
    "if org==sum:\n",
    "    print(org, \"is amstrong number\")\n",
    "else:\n",
    "    print(org, \"is not amstrong number\")"
   ]
  },
  {
   "cell_type": "markdown",
   "id": "9acbbaba",
   "metadata": {},
   "source": [
    "# Amstrong number - Sum of digits raised to the power of no.of digits equal to number"
   ]
  },
  {
   "cell_type": "code",
   "execution_count": 3,
   "id": "4375bdac",
   "metadata": {},
   "outputs": [
    {
     "name": "stdout",
     "output_type": "stream",
     "text": [
      "enter any number:4\n",
      "4 is amstrong number\n"
     ]
    }
   ],
   "source": [
    "n = int(input('enter any number:'))\n",
    "org = n\n",
    "t = n\n",
    "i = 1\n",
    "count = 0\n",
    "sum = 0\n",
    "for i in range(t):\n",
    "    rem = t%10\n",
    "    t = t//10\n",
    "    count = count + 1 \n",
    "    if t==0:\n",
    "        break\n",
    "for i in range(n):\n",
    "    rem = n%10\n",
    "    cube = rem**count\n",
    "    n = n//10\n",
    "    sum = sum + cube \n",
    "    if n==0:\n",
    "        break\n",
    "if org==sum:\n",
    "    print(org, \"is amstrong number\")\n",
    "else:\n",
    "    print(org, \"is not amstrong number\")"
   ]
  },
  {
   "cell_type": "markdown",
   "id": "e768d049",
   "metadata": {},
   "source": [
    "# Strong number - sum of factorial of digits equal to number"
   ]
  },
  {
   "cell_type": "code",
   "execution_count": 4,
   "id": "5255d538",
   "metadata": {},
   "outputs": [
    {
     "name": "stdout",
     "output_type": "stream",
     "text": [
      "enter any number:234\n",
      "234 is not strong number\n"
     ]
    }
   ],
   "source": [
    "n = int(input('enter any number:'))\n",
    "org = n\n",
    "i = 1\n",
    "sum = 0\n",
    "for i in range(n):\n",
    "    rem = n%10\n",
    "    j=1\n",
    "    fac=1\n",
    "    for j in range(1,rem+1):\n",
    "        fac = fac*j\n",
    "    sum = sum + fac\n",
    "    n = n//10\n",
    "    if n==0:\n",
    "        break\n",
    "if org==sum:\n",
    "    print(org, \"is strong number\")\n",
    "else:\n",
    "    print(org, \"is not strong number\")"
   ]
  },
  {
   "cell_type": "markdown",
   "id": "9daa1ac6",
   "metadata": {},
   "source": [
    "# Perfect number - sum of factors equal to number"
   ]
  },
  {
   "cell_type": "code",
   "execution_count": 5,
   "id": "8dff4ac9",
   "metadata": {},
   "outputs": [
    {
     "name": "stdout",
     "output_type": "stream",
     "text": [
      "enter any number:7\n",
      "7 is not perfect number\n"
     ]
    }
   ],
   "source": [
    "n = int(input('enter any number:'))\n",
    "org = n\n",
    "i = 1\n",
    "sum = 0\n",
    "for i in range(1,n):\n",
    "    if n%i==0:\n",
    "        sum = sum + i\n",
    "if org==sum:\n",
    "    print(org, \"is perfect number\")\n",
    "else:\n",
    "    print(org, \"is not perfect number\")"
   ]
  },
  {
   "cell_type": "markdown",
   "id": "e9ac4032",
   "metadata": {},
   "source": [
    "# Fibonacci series"
   ]
  },
  {
   "cell_type": "code",
   "execution_count": 6,
   "id": "67c20135",
   "metadata": {},
   "outputs": [
    {
     "name": "stdout",
     "output_type": "stream",
     "text": [
      "enter no.of terms want:9\n",
      "0,1,1,2,3,5,8,13,21,"
     ]
    }
   ],
   "source": [
    "t1 = 0\n",
    "t2 = 1\n",
    "n = int(input('enter no.of terms want:'))\n",
    "nxt_trm = t1 + t2\n",
    "print(t1, end = ',')\n",
    "print(t2, end = ',')\n",
    "for i in range(3,n+1):\n",
    "    print(nxt_trm, end = ',')\n",
    "    t1 = t2\n",
    "    t2 = nxt_trm\n",
    "    nxt_trm = t1 + t2"
   ]
  },
  {
   "cell_type": "code",
   "execution_count": null,
   "id": "1e09568b",
   "metadata": {},
   "outputs": [],
   "source": []
  }
 ],
 "metadata": {
  "kernelspec": {
   "display_name": "Python 3 (ipykernel)",
   "language": "python",
   "name": "python3"
  },
  "language_info": {
   "codemirror_mode": {
    "name": "ipython",
    "version": 3
   },
   "file_extension": ".py",
   "mimetype": "text/x-python",
   "name": "python",
   "nbconvert_exporter": "python",
   "pygments_lexer": "ipython3",
   "version": "3.9.12"
  }
 },
 "nbformat": 4,
 "nbformat_minor": 5
}
